{
 "cells": [
  {
   "cell_type": "markdown",
   "metadata": {},
   "source": [
    "## 0. Standard Imports"
   ]
  },
  {
   "cell_type": "code",
   "execution_count": 1,
   "metadata": {},
   "outputs": [],
   "source": [
    "import pandas as pd\n",
    "import numpy as np\n",
    "import matplotlib.pyplot as plt\n",
    "import seaborn as sns"
   ]
  },
  {
   "cell_type": "markdown",
   "metadata": {},
   "source": [
    "## 1. Reading File"
   ]
  },
  {
   "cell_type": "code",
   "execution_count": 2,
   "metadata": {},
   "outputs": [
    {
     "data": {
      "text/html": [
       "<div>\n",
       "<style scoped>\n",
       "    .dataframe tbody tr th:only-of-type {\n",
       "        vertical-align: middle;\n",
       "    }\n",
       "\n",
       "    .dataframe tbody tr th {\n",
       "        vertical-align: top;\n",
       "    }\n",
       "\n",
       "    .dataframe thead th {\n",
       "        text-align: right;\n",
       "    }\n",
       "</style>\n",
       "<table border=\"1\" class=\"dataframe\">\n",
       "  <thead>\n",
       "    <tr style=\"text-align: right;\">\n",
       "      <th></th>\n",
       "      <th>Source</th>\n",
       "      <th>Host</th>\n",
       "      <th>Link</th>\n",
       "      <th>Date(ET)</th>\n",
       "      <th>Time(ET)</th>\n",
       "      <th>time(GMT)</th>\n",
       "      <th>Title</th>\n",
       "      <th>TRANS_CONV_TEXT</th>\n",
       "      <th>Patient_Tag</th>\n",
       "    </tr>\n",
       "  </thead>\n",
       "  <tbody>\n",
       "    <tr>\n",
       "      <th>0</th>\n",
       "      <td>FORUMS</td>\n",
       "      <td>cafepharma.com</td>\n",
       "      <td>http://cafepharma.com/boards/threads/epstein.5...</td>\n",
       "      <td>6/15/2016</td>\n",
       "      <td>13:58:00</td>\n",
       "      <td>6/15/2016 23:28</td>\n",
       "      <td>Epstein</td>\n",
       "      <td>I don't disagree with you in principle. I'm ju...</td>\n",
       "      <td>0</td>\n",
       "    </tr>\n",
       "    <tr>\n",
       "      <th>1</th>\n",
       "      <td>FORUMS</td>\n",
       "      <td>www.patient.co.uk</td>\n",
       "      <td>http://www.patient.co.uk/forums/discuss/enlarg...</td>\n",
       "      <td>5/7/2016</td>\n",
       "      <td>0.820833333</td>\n",
       "      <td>42498.21667</td>\n",
       "      <td>Enlarged Heart.Thread Enlarged Heart</td>\n",
       "      <td>I am always dizzy I get dizzy standing up so I...</td>\n",
       "      <td>1</td>\n",
       "    </tr>\n",
       "    <tr>\n",
       "      <th>2</th>\n",
       "      <td>BLOG</td>\n",
       "      <td>http://abcnewsradioonline.com/entertainment-news</td>\n",
       "      <td>http://abcnewsradioonline.com/entertainment-ne...</td>\n",
       "      <td>4/14/2016</td>\n",
       "      <td>15:00:38</td>\n",
       "      <td>4/15/2016 0:30</td>\n",
       "      <td>Queen Latifah Joins American Heart Association...</td>\n",
       "      <td>Axelle/Bauer-Griffin/FilmMagic(NEW YORK) -- Qu...</td>\n",
       "      <td>0</td>\n",
       "    </tr>\n",
       "    <tr>\n",
       "      <th>3</th>\n",
       "      <td>FORUMS</td>\n",
       "      <td>www.cancer-forums.net</td>\n",
       "      <td>http://www.cancer-forums.net/viewtopic.php?f=1...</td>\n",
       "      <td>6/18/2016</td>\n",
       "      <td>20:46:00</td>\n",
       "      <td>6/19/2016 6:16</td>\n",
       "      <td>Bulaemia</td>\n",
       "      <td>I am 17 and I have been throwing up for about ...</td>\n",
       "      <td>1</td>\n",
       "    </tr>\n",
       "    <tr>\n",
       "      <th>4</th>\n",
       "      <td>FORUMS</td>\n",
       "      <td>www.diyaudio.com</td>\n",
       "      <td>http://www.diyaudio.com/forums/lounge/292252-d...</td>\n",
       "      <td>6/15/2016</td>\n",
       "      <td>3:26:00</td>\n",
       "      <td>6/15/2016 12:56</td>\n",
       "      <td>DIY Silver interconnects and RCAs???</td>\n",
       "      <td>Quote: Originally Posted by Boyan Silyavski Wa...</td>\n",
       "      <td>0</td>\n",
       "    </tr>\n",
       "    <tr>\n",
       "      <th>5</th>\n",
       "      <td>FORUMS</td>\n",
       "      <td>forum.cyclinguk.org</td>\n",
       "      <td>http://forum.cyclinguk.org/viewtopic.php?f=24&amp;...</td>\n",
       "      <td>4/6/2016</td>\n",
       "      <td>5:50:00</td>\n",
       "      <td>4/6/2016 15:20</td>\n",
       "      <td>Personal Question</td>\n",
       "      <td>Theres a discussion about recumbent power on B...</td>\n",
       "      <td>0</td>\n",
       "    </tr>\n",
       "    <tr>\n",
       "      <th>6</th>\n",
       "      <td>FORUMS</td>\n",
       "      <td>www.reddit.com</td>\n",
       "      <td>https://www.reddit.com/r/todayilearned/comment...</td>\n",
       "      <td>5/2/2016</td>\n",
       "      <td>0.047916667</td>\n",
       "      <td>42492.44375</td>\n",
       "      <td>TIL that CVS took a $2 billion hit to annual s...</td>\n",
       "      <td>Of course! I just got diagnosed with congestiv...</td>\n",
       "      <td>1</td>\n",
       "    </tr>\n",
       "    <tr>\n",
       "      <th>7</th>\n",
       "      <td>BLOG</td>\n",
       "      <td>http://quranfruitz.blogspot.com</td>\n",
       "      <td>http://quranfruitz.blogspot.com/2016/02/causes...</td>\n",
       "      <td>2/28/2016</td>\n",
       "      <td>3:20:00</td>\n",
       "      <td>2/28/2016 13:50</td>\n",
       "      <td>Causes of Low Blood Pressure(Hypo tension)</td>\n",
       "      <td>Blood pressure is a measurement of the pressur...</td>\n",
       "      <td>0</td>\n",
       "    </tr>\n",
       "    <tr>\n",
       "      <th>8</th>\n",
       "      <td>FORUMS</td>\n",
       "      <td>hmnews.org</td>\n",
       "      <td>http://hmnews.org/health-care-news/cluster8641...</td>\n",
       "      <td>6/15/2016</td>\n",
       "      <td>17:16:00</td>\n",
       "      <td>6/16/2016 2:46</td>\n",
       "      <td>Sleep disorders may predict heart events after...</td>\n",
       "      <td>Other Sleep disorders may predict heart events...</td>\n",
       "      <td>0</td>\n",
       "    </tr>\n",
       "    <tr>\n",
       "      <th>9</th>\n",
       "      <td>FORUMS</td>\n",
       "      <td>www.cafepharma.com</td>\n",
       "      <td>http://www.cafepharma.com/boards/threads/nomin...</td>\n",
       "      <td>4/29/2016</td>\n",
       "      <td>23:46:00</td>\n",
       "      <td>4/30/2016 9:16</td>\n",
       "      <td>Nominations for worst manager at Novartis</td>\n",
       "      <td>worse manager ever??? LS out of Richmond. Ugh!...</td>\n",
       "      <td>0</td>\n",
       "    </tr>\n",
       "  </tbody>\n",
       "</table>\n",
       "</div>"
      ],
      "text/plain": [
       "   Source                                              Host  \\\n",
       "0  FORUMS                                    cafepharma.com   \n",
       "1  FORUMS                                 www.patient.co.uk   \n",
       "2    BLOG  http://abcnewsradioonline.com/entertainment-news   \n",
       "3  FORUMS                             www.cancer-forums.net   \n",
       "4  FORUMS                                  www.diyaudio.com   \n",
       "5  FORUMS                               forum.cyclinguk.org   \n",
       "6  FORUMS                                    www.reddit.com   \n",
       "7    BLOG                   http://quranfruitz.blogspot.com   \n",
       "8  FORUMS                                        hmnews.org   \n",
       "9  FORUMS                                www.cafepharma.com   \n",
       "\n",
       "                                                Link   Date(ET)     Time(ET)  \\\n",
       "0  http://cafepharma.com/boards/threads/epstein.5...  6/15/2016     13:58:00   \n",
       "1  http://www.patient.co.uk/forums/discuss/enlarg...   5/7/2016  0.820833333   \n",
       "2  http://abcnewsradioonline.com/entertainment-ne...  4/14/2016     15:00:38   \n",
       "3  http://www.cancer-forums.net/viewtopic.php?f=1...  6/18/2016     20:46:00   \n",
       "4  http://www.diyaudio.com/forums/lounge/292252-d...  6/15/2016      3:26:00   \n",
       "5  http://forum.cyclinguk.org/viewtopic.php?f=24&...   4/6/2016      5:50:00   \n",
       "6  https://www.reddit.com/r/todayilearned/comment...   5/2/2016  0.047916667   \n",
       "7  http://quranfruitz.blogspot.com/2016/02/causes...  2/28/2016      3:20:00   \n",
       "8  http://hmnews.org/health-care-news/cluster8641...  6/15/2016     17:16:00   \n",
       "9  http://www.cafepharma.com/boards/threads/nomin...  4/29/2016     23:46:00   \n",
       "\n",
       "         time(GMT)                                              Title  \\\n",
       "0  6/15/2016 23:28                                            Epstein   \n",
       "1      42498.21667               Enlarged Heart.Thread Enlarged Heart   \n",
       "2   4/15/2016 0:30  Queen Latifah Joins American Heart Association...   \n",
       "3   6/19/2016 6:16                                           Bulaemia   \n",
       "4  6/15/2016 12:56               DIY Silver interconnects and RCAs???   \n",
       "5   4/6/2016 15:20                                  Personal Question   \n",
       "6      42492.44375  TIL that CVS took a $2 billion hit to annual s...   \n",
       "7  2/28/2016 13:50         Causes of Low Blood Pressure(Hypo tension)   \n",
       "8   6/16/2016 2:46  Sleep disorders may predict heart events after...   \n",
       "9   4/30/2016 9:16          Nominations for worst manager at Novartis   \n",
       "\n",
       "                                     TRANS_CONV_TEXT  Patient_Tag  \n",
       "0  I don't disagree with you in principle. I'm ju...            0  \n",
       "1  I am always dizzy I get dizzy standing up so I...            1  \n",
       "2  Axelle/Bauer-Griffin/FilmMagic(NEW YORK) -- Qu...            0  \n",
       "3  I am 17 and I have been throwing up for about ...            1  \n",
       "4  Quote: Originally Posted by Boyan Silyavski Wa...            0  \n",
       "5  Theres a discussion about recumbent power on B...            0  \n",
       "6  Of course! I just got diagnosed with congestiv...            1  \n",
       "7  Blood pressure is a measurement of the pressur...            0  \n",
       "8  Other Sleep disorders may predict heart events...            0  \n",
       "9  worse manager ever??? LS out of Richmond. Ugh!...            0  "
      ]
     },
     "execution_count": 2,
     "metadata": {},
     "output_type": "execute_result"
    }
   ],
   "source": [
    "# Read the data\n",
    "training_data = pd.read_csv('./Datasets/train.csv', encoding = 'latin')\n",
    "test_data = pd.read_csv('./Datasets/test.csv', encoding = 'latin', index_col='Index')\n",
    "\n",
    "pd.set_option('max_columns', None)\n",
    "training_data.head(10)"
   ]
  },
  {
   "cell_type": "code",
   "execution_count": 3,
   "metadata": {},
   "outputs": [
    {
     "data": {
      "text/html": [
       "<div>\n",
       "<style scoped>\n",
       "    .dataframe tbody tr th:only-of-type {\n",
       "        vertical-align: middle;\n",
       "    }\n",
       "\n",
       "    .dataframe tbody tr th {\n",
       "        vertical-align: top;\n",
       "    }\n",
       "\n",
       "    .dataframe thead th {\n",
       "        text-align: right;\n",
       "    }\n",
       "</style>\n",
       "<table border=\"1\" class=\"dataframe\">\n",
       "  <thead>\n",
       "    <tr style=\"text-align: right;\">\n",
       "      <th></th>\n",
       "      <th>Source</th>\n",
       "      <th>Host</th>\n",
       "      <th>Link</th>\n",
       "      <th>Date(ET)</th>\n",
       "      <th>Time(ET)</th>\n",
       "      <th>time(GMT)</th>\n",
       "      <th>Title</th>\n",
       "      <th>TRANS_CONV_TEXT</th>\n",
       "    </tr>\n",
       "    <tr>\n",
       "      <th>Index</th>\n",
       "      <th></th>\n",
       "      <th></th>\n",
       "      <th></th>\n",
       "      <th></th>\n",
       "      <th></th>\n",
       "      <th></th>\n",
       "      <th></th>\n",
       "      <th></th>\n",
       "    </tr>\n",
       "  </thead>\n",
       "  <tbody>\n",
       "    <tr>\n",
       "      <th>1</th>\n",
       "      <td>BLOG</td>\n",
       "      <td>uhmagonline.com</td>\n",
       "      <td>http://uhmagonline.com/son-of-the-late-kimbo-s...</td>\n",
       "      <td>7/30/2016</td>\n",
       "      <td>00:41:23</td>\n",
       "      <td>NaN</td>\n",
       "      <td>NaN</td>\n",
       "      <td>Baby Slice, the son of the late Kimbo Slice, h...</td>\n",
       "    </tr>\n",
       "    <tr>\n",
       "      <th>2</th>\n",
       "      <td>FORUMS</td>\n",
       "      <td>implantinformationnetwork.yuku.com</td>\n",
       "      <td>http://implantinformationnetwork.yuku.com/topi...</td>\n",
       "      <td>6/20/2016</td>\n",
       "      <td>00:07:30</td>\n",
       "      <td>6/20/2016 9:37</td>\n",
       "      <td>My Story --</td>\n",
       "      <td>&lt;p&gt;&lt;font face=\"sans-serif\" size=\"3\"&gt;I have had...</td>\n",
       "    </tr>\n",
       "    <tr>\n",
       "      <th>3</th>\n",
       "      <td>BLOG</td>\n",
       "      <td>http://cestlapharm.blogspot.com</td>\n",
       "      <td>http://cestlapharm.blogspot.com/2016/06/us-fda...</td>\n",
       "      <td>6/15/2016</td>\n",
       "      <td>15:44:00</td>\n",
       "      <td>6/16/2016 1:14</td>\n",
       "      <td>US FDA ?????canagliflozin?dapagliflozin?????????</td>\n",
       "      <td>Previously, sodium-glucose cotransporter-2 (SG...</td>\n",
       "    </tr>\n",
       "    <tr>\n",
       "      <th>4</th>\n",
       "      <td>FORUMS</td>\n",
       "      <td>healthboards.com</td>\n",
       "      <td>http://www.healthboards.com/boards/heart-disor...</td>\n",
       "      <td>7/17/2016</td>\n",
       "      <td>19:41:00</td>\n",
       "      <td>NaN</td>\n",
       "      <td>NaN</td>\n",
       "      <td>Hello. I suffer from congestive heart failure ...</td>\n",
       "    </tr>\n",
       "    <tr>\n",
       "      <th>5</th>\n",
       "      <td>BLOG</td>\n",
       "      <td>http://www.sciencecodex.com</td>\n",
       "      <td>http://www.sciencecodex.com/vitamin_d_improves...</td>\n",
       "      <td>04-04-2016</td>\n",
       "      <td>15:30:45</td>\n",
       "      <td>04-05-2016 01:00</td>\n",
       "      <td>Vitamin D improves heart function, study finds</td>\n",
       "      <td>A daily dose of vitamin D3 improves heart func...</td>\n",
       "    </tr>\n",
       "    <tr>\n",
       "      <th>6</th>\n",
       "      <td>Facebook</td>\n",
       "      <td>NaN</td>\n",
       "      <td>http://facebook.com/55779104577_10154506997494578</td>\n",
       "      <td>04-04-2016</td>\n",
       "      <td>12:04 PM</td>\n",
       "      <td>04-04-2016 12:04</td>\n",
       "      <td>NaN</td>\n",
       "      <td>\"reuters.com A stem cell therapy developed by ...</td>\n",
       "    </tr>\n",
       "    <tr>\n",
       "      <th>7</th>\n",
       "      <td>FORUMS</td>\n",
       "      <td>foros.internautas.org</td>\n",
       "      <td>http://foros.internautas.org/viewtopic.php?t=4...</td>\n",
       "      <td>4/28/2016</td>\n",
       "      <td>21:19:00</td>\n",
       "      <td>4/29/2016 6:49</td>\n",
       "      <td>TODO SOBRE GSM</td>\n",
       "      <td>Sorry, I ran out of credit http://www.buffaloi...</td>\n",
       "    </tr>\n",
       "    <tr>\n",
       "      <th>8</th>\n",
       "      <td>FORUMS</td>\n",
       "      <td>icdsupportgroup.org</td>\n",
       "      <td>http://www.icdsupportgroup.org/board/viewtopic...</td>\n",
       "      <td>7/20/2016</td>\n",
       "      <td>07:15:00</td>\n",
       "      <td>NaN</td>\n",
       "      <td>NaN</td>\n",
       "      <td>The sun will come out tomorrow....But for peop...</td>\n",
       "    </tr>\n",
       "    <tr>\n",
       "      <th>9</th>\n",
       "      <td>BLOG</td>\n",
       "      <td>http://human-diagrams.blogspot.com</td>\n",
       "      <td>http://human-diagrams.blogspot.com/2016/06/pat...</td>\n",
       "      <td>6/15/2016</td>\n",
       "      <td>06:14:00</td>\n",
       "      <td>6/15/2016 15:44</td>\n",
       "      <td>Pathophysiology of Heart failure</td>\n",
       "      <td>Pathophysiology of Heart failure</td>\n",
       "    </tr>\n",
       "    <tr>\n",
       "      <th>10</th>\n",
       "      <td>BLOG</td>\n",
       "      <td>http://zandcell.livejournal.com</td>\n",
       "      <td>http://zandcell.livejournal.com/572028.html</td>\n",
       "      <td>04-04-2016</td>\n",
       "      <td>13:26:29</td>\n",
       "      <td>04-04-2016 22:56</td>\n",
       "      <td>Vericel stem cell therapy cuts heart failure d...</td>\n",
       "      <td>( http://blog.zandcell.com/vericel-stem-cell-t...</td>\n",
       "    </tr>\n",
       "  </tbody>\n",
       "</table>\n",
       "</div>"
      ],
      "text/plain": [
       "         Source                                Host  \\\n",
       "Index                                                 \n",
       "1          BLOG                     uhmagonline.com   \n",
       "2        FORUMS  implantinformationnetwork.yuku.com   \n",
       "3          BLOG     http://cestlapharm.blogspot.com   \n",
       "4        FORUMS                    healthboards.com   \n",
       "5          BLOG         http://www.sciencecodex.com   \n",
       "6      Facebook                                 NaN   \n",
       "7        FORUMS               foros.internautas.org   \n",
       "8        FORUMS                 icdsupportgroup.org   \n",
       "9          BLOG  http://human-diagrams.blogspot.com   \n",
       "10         BLOG     http://zandcell.livejournal.com   \n",
       "\n",
       "                                                    Link    Date(ET)  \\\n",
       "Index                                                                  \n",
       "1      http://uhmagonline.com/son-of-the-late-kimbo-s...   7/30/2016   \n",
       "2      http://implantinformationnetwork.yuku.com/topi...   6/20/2016   \n",
       "3      http://cestlapharm.blogspot.com/2016/06/us-fda...   6/15/2016   \n",
       "4      http://www.healthboards.com/boards/heart-disor...   7/17/2016   \n",
       "5      http://www.sciencecodex.com/vitamin_d_improves...  04-04-2016   \n",
       "6      http://facebook.com/55779104577_10154506997494578  04-04-2016   \n",
       "7      http://foros.internautas.org/viewtopic.php?t=4...   4/28/2016   \n",
       "8      http://www.icdsupportgroup.org/board/viewtopic...   7/20/2016   \n",
       "9      http://human-diagrams.blogspot.com/2016/06/pat...   6/15/2016   \n",
       "10           http://zandcell.livejournal.com/572028.html  04-04-2016   \n",
       "\n",
       "       Time(ET)         time(GMT)  \\\n",
       "Index                               \n",
       "1      00:41:23               NaN   \n",
       "2      00:07:30    6/20/2016 9:37   \n",
       "3      15:44:00    6/16/2016 1:14   \n",
       "4      19:41:00               NaN   \n",
       "5      15:30:45  04-05-2016 01:00   \n",
       "6      12:04 PM  04-04-2016 12:04   \n",
       "7      21:19:00    4/29/2016 6:49   \n",
       "8      07:15:00               NaN   \n",
       "9      06:14:00   6/15/2016 15:44   \n",
       "10     13:26:29  04-04-2016 22:56   \n",
       "\n",
       "                                                   Title  \\\n",
       "Index                                                      \n",
       "1                                                    NaN   \n",
       "2                                            My Story --   \n",
       "3       US FDA ?????canagliflozin?dapagliflozin?????????   \n",
       "4                                                    NaN   \n",
       "5         Vitamin D improves heart function, study finds   \n",
       "6                                                    NaN   \n",
       "7                                         TODO SOBRE GSM   \n",
       "8                                                    NaN   \n",
       "9                       Pathophysiology of Heart failure   \n",
       "10     Vericel stem cell therapy cuts heart failure d...   \n",
       "\n",
       "                                         TRANS_CONV_TEXT  \n",
       "Index                                                     \n",
       "1      Baby Slice, the son of the late Kimbo Slice, h...  \n",
       "2      <p><font face=\"sans-serif\" size=\"3\">I have had...  \n",
       "3      Previously, sodium-glucose cotransporter-2 (SG...  \n",
       "4      Hello. I suffer from congestive heart failure ...  \n",
       "5      A daily dose of vitamin D3 improves heart func...  \n",
       "6      \"reuters.com A stem cell therapy developed by ...  \n",
       "7      Sorry, I ran out of credit http://www.buffaloi...  \n",
       "8      The sun will come out tomorrow....But for peop...  \n",
       "9                       Pathophysiology of Heart failure  \n",
       "10     ( http://blog.zandcell.com/vericel-stem-cell-t...  "
      ]
     },
     "execution_count": 3,
     "metadata": {},
     "output_type": "execute_result"
    }
   ],
   "source": [
    "pd.set_option('max_columns', None)\n",
    "test_data.head(10)"
   ]
  },
  {
   "cell_type": "markdown",
   "metadata": {},
   "source": [
    "## 2. Data Cleaning"
   ]
  },
  {
   "cell_type": "markdown",
   "metadata": {},
   "source": [
    "### A. Missing Value Imputation and Feature Selection"
   ]
  },
  {
   "cell_type": "markdown",
   "metadata": {},
   "source": [
    "Conversatiuon Link and Website URL do not add significant information to out classification task.  \n",
    "\n",
    "Date doesnot have any relevence as we are tracking general patients and not seasonal effect of any disease.  \n",
    "Time might have been a good indicator, but since the time is taken from a fixed reference and not in local time, and we have no information about poster's location; Time sadly also does not add much value to the task in hand.  \n",
    "\n",
    "So we can drop these features from out dataframe."
   ]
  },
  {
   "cell_type": "code",
   "execution_count": 4,
   "metadata": {},
   "outputs": [],
   "source": [
    "training_data.drop(['Date(ET)', 'Time(ET)', 'time(GMT)', 'Link', 'Host'], axis=1, inplace=True)\n",
    "test_data.drop(['Date(ET)', 'Time(ET)', 'time(GMT)', 'Link', 'Host'], axis=1, inplace=True)"
   ]
  },
  {
   "cell_type": "markdown",
   "metadata": {},
   "source": [
    "Also, if there is any data points with missing labels or missing conversation, we can not do much with that particular data until out model is trained. So we can eliminate those points also."
   ]
  },
  {
   "cell_type": "code",
   "execution_count": 5,
   "metadata": {},
   "outputs": [],
   "source": [
    "training_data.dropna(axis=0, subset=['Patient_Tag'], inplace=True)\n",
    "all_columns = training_data.columns"
   ]
  },
  {
   "cell_type": "code",
   "execution_count": 6,
   "metadata": {},
   "outputs": [],
   "source": [
    "training_data.dropna(axis=0, subset=['TRANS_CONV_TEXT'], inplace=True)"
   ]
  },
  {
   "cell_type": "markdown",
   "metadata": {},
   "source": [
    "After all that, let us see what else is missing from our dataset..."
   ]
  },
  {
   "cell_type": "code",
   "execution_count": 7,
   "metadata": {},
   "outputs": [
    {
     "name": "stdout",
     "output_type": "stream",
     "text": [
      "There are 1 columns with missing values in the training data.\n"
     ]
    },
    {
     "data": {
      "image/png": "[encoded data removed]",
      "text/plain": [
       "<Figure size 360x576 with 1 Axes>"
      ]
     },
     "metadata": {},
     "output_type": "display_data"
    }
   ],
   "source": [
    "sns.set(style=\"whitegrid\")\n",
    "\n",
    "nulls_train = np.sum(training_data.isnull())\n",
    "nullcols_train = nulls_train.loc[(nulls_train != 0)].sort_values(ascending=False)\n",
    "nullcols_train = nullcols_train.apply(lambda x: 100*x/training_data.shape[0])\n",
    "\n",
    "barplot_dim = (5, 8)\n",
    "ax = plt.subplots(figsize=barplot_dim)\n",
    "plt.xticks(rotation=45)\n",
    "sns.barplot(x=nullcols_train.index, y=nullcols_train)\n",
    "print('There are', len(nullcols_train), 'columns with missing values in the training data.')"
   ]
  },
  {
   "cell_type": "code",
   "execution_count": 8,
   "metadata": {},
   "outputs": [
    {
     "data": {
      "text/html": [
       "<div>\n",
       "<style scoped>\n",
       "    .dataframe tbody tr th:only-of-type {\n",
       "        vertical-align: middle;\n",
       "    }\n",
       "\n",
       "    .dataframe tbody tr th {\n",
       "        vertical-align: top;\n",
       "    }\n",
       "\n",
       "    .dataframe thead th {\n",
       "        text-align: right;\n",
       "    }\n",
       "</style>\n",
       "<table border=\"1\" class=\"dataframe\">\n",
       "  <thead>\n",
       "    <tr style=\"text-align: right;\">\n",
       "      <th></th>\n",
       "      <th>Source</th>\n",
       "      <th>Title</th>\n",
       "      <th>TRANS_CONV_TEXT</th>\n",
       "      <th>Patient_Tag</th>\n",
       "    </tr>\n",
       "  </thead>\n",
       "  <tbody>\n",
       "    <tr>\n",
       "      <th>10</th>\n",
       "      <td>FORUMS</td>\n",
       "      <td>NaN</td>\n",
       "      <td>Looknsee Photography wrote: When I was living ...</td>\n",
       "      <td>1</td>\n",
       "    </tr>\n",
       "    <tr>\n",
       "      <th>18</th>\n",
       "      <td>FORUMS</td>\n",
       "      <td>NaN</td>\n",
       "      <td>Originally Posted by Birddog Cause of death wa...</td>\n",
       "      <td>0</td>\n",
       "    </tr>\n",
       "    <tr>\n",
       "      <th>25</th>\n",
       "      <td>BLOG</td>\n",
       "      <td>NaN</td>\n",
       "      <td>STILLWATER, Okla. (AP) ? Medical examiner spok...</td>\n",
       "      <td>0</td>\n",
       "    </tr>\n",
       "    <tr>\n",
       "      <th>34</th>\n",
       "      <td>BLOG</td>\n",
       "      <td>NaN</td>\n",
       "      <td>I am so, so, so congested. I am not feeling we...</td>\n",
       "      <td>1</td>\n",
       "    </tr>\n",
       "    <tr>\n",
       "      <th>35</th>\n",
       "      <td>Facebook</td>\n",
       "      <td>NaN</td>\n",
       "      <td>\"  Had lost a lot of weight then in no time st...</td>\n",
       "      <td>1</td>\n",
       "    </tr>\n",
       "    <tr>\n",
       "      <th>38</th>\n",
       "      <td>FACEBOOK</td>\n",
       "      <td>NaN</td>\n",
       "      <td>Matthew 25 31 When the Son of man shall come i...</td>\n",
       "      <td>1</td>\n",
       "    </tr>\n",
       "    <tr>\n",
       "      <th>40</th>\n",
       "      <td>Facebook</td>\n",
       "      <td>NaN</td>\n",
       "      <td>\"  I WUD LIKE TO THANK MY EMPLOYER FOR CANCELL...</td>\n",
       "      <td>1</td>\n",
       "    </tr>\n",
       "    <tr>\n",
       "      <th>49</th>\n",
       "      <td>FORUMS</td>\n",
       "      <td>NaN</td>\n",
       "      <td>Quote: Originally Posted by winston53660 Actua...</td>\n",
       "      <td>1</td>\n",
       "    </tr>\n",
       "    <tr>\n",
       "      <th>51</th>\n",
       "      <td>Facebook</td>\n",
       "      <td>NaN</td>\n",
       "      <td>\"expi.co Nancy Davis Reagan, the widow of Pres...</td>\n",
       "      <td>0</td>\n",
       "    </tr>\n",
       "    <tr>\n",
       "      <th>53</th>\n",
       "      <td>FORUMS</td>\n",
       "      <td>NaN</td>\n",
       "      <td>Hi Pat, it's many, many years since I had my E...</td>\n",
       "      <td>1</td>\n",
       "    </tr>\n",
       "  </tbody>\n",
       "</table>\n",
       "</div>"
      ],
      "text/plain": [
       "      Source Title                                    TRANS_CONV_TEXT  \\\n",
       "10    FORUMS   NaN  Looknsee Photography wrote: When I was living ...   \n",
       "18    FORUMS   NaN  Originally Posted by Birddog Cause of death wa...   \n",
       "25      BLOG   NaN  STILLWATER, Okla. (AP) ? Medical examiner spok...   \n",
       "34      BLOG   NaN  I am so, so, so congested. I am not feeling we...   \n",
       "35  Facebook   NaN  \"  Had lost a lot of weight then in no time st...   \n",
       "38  FACEBOOK   NaN  Matthew 25 31 When the Son of man shall come i...   \n",
       "40  Facebook   NaN  \"  I WUD LIKE TO THANK MY EMPLOYER FOR CANCELL...   \n",
       "49    FORUMS   NaN  Quote: Originally Posted by winston53660 Actua...   \n",
       "51  Facebook   NaN  \"expi.co Nancy Davis Reagan, the widow of Pres...   \n",
       "53    FORUMS   NaN  Hi Pat, it's many, many years since I had my E...   \n",
       "\n",
       "    Patient_Tag  \n",
       "10            1  \n",
       "18            0  \n",
       "25            0  \n",
       "34            1  \n",
       "35            1  \n",
       "38            1  \n",
       "40            1  \n",
       "49            1  \n",
       "51            0  \n",
       "53            1  "
      ]
     },
     "execution_count": 8,
     "metadata": {},
     "output_type": "execute_result"
    }
   ],
   "source": [
    "training_data[training_data['Title'].isnull()].head(10)"
   ]
  },
  {
   "cell_type": "markdown",
   "metadata": {},
   "source": [
    "Okay, so missing tiltles can be assumed as blank and replaced with ' ' to signify the missing title; and can easily be tracked/filtered downstream of the pipeline."
   ]
  },
  {
   "cell_type": "code",
   "execution_count": 9,
   "metadata": {},
   "outputs": [],
   "source": [
    "training_data['Title'].fillna(' ', inplace=True);\n",
    "test_data['Title'].fillna(' ', inplace=True);"
   ]
  },
  {
   "cell_type": "code",
   "execution_count": 10,
   "metadata": {},
   "outputs": [],
   "source": [
    "training_data['Combined_CONV_text'] = training_data['Title'] + '. ' + training_data['TRANS_CONV_TEXT'] + '. ' + training_data['Source']\n",
    "test_data['Combined_CONV_text'] = test_data['Title'] + '. ' + test_data['TRANS_CONV_TEXT'] + '. ' + test_data['Source']\n",
    "\n",
    "training_data.drop(['Title', 'TRANS_CONV_TEXT'], axis=1, inplace=True)\n",
    "test_data.drop(['Title', 'TRANS_CONV_TEXT'], axis=1, inplace=True)"
   ]
  },
  {
   "cell_type": "code",
   "execution_count": 11,
   "metadata": {},
   "outputs": [
    {
     "data": {
      "text/plain": [
       "Source                0\n",
       "Patient_Tag           0\n",
       "Combined_CONV_text    0\n",
       "dtype: int64"
      ]
     },
     "execution_count": 11,
     "metadata": {},
     "output_type": "execute_result"
    }
   ],
   "source": [
    "nulls_train = np.sum(training_data.isnull())\n",
    "nulls_train"
   ]
  },
  {
   "cell_type": "code",
   "execution_count": 12,
   "metadata": {},
   "outputs": [
    {
     "data": {
      "text/plain": [
       "Source                0\n",
       "Combined_CONV_text    0\n",
       "dtype: int64"
      ]
     },
     "execution_count": 12,
     "metadata": {},
     "output_type": "execute_result"
    }
   ],
   "source": [
    "nulls_test = np.sum(test_data.isnull())\n",
    "nulls_test"
   ]
  },
  {
   "cell_type": "markdown",
   "metadata": {},
   "source": [
    "### B. Feature Cleaning"
   ]
  },
  {
   "cell_type": "markdown",
   "metadata": {},
   "source": [
    "Since the data is scraped from web; there is a chance that HTML tags and unnecessary punctuations(Thanks Millenials!) have crept into the dataset along with useful data; we can get rid of those with two simple functions."
   ]
  },
  {
   "cell_type": "code",
   "execution_count": 13,
   "metadata": {},
   "outputs": [],
   "source": [
    "from bs4 import BeautifulSoup\n",
    "\n",
    "def remove_html_tags(text):\n",
    "    soup = BeautifulSoup(text, 'lxml')\n",
    "    only_text = soup.get_text()\n",
    "    return only_text"
   ]
  },
  {
   "cell_type": "code",
   "execution_count": 14,
   "metadata": {},
   "outputs": [],
   "source": [
    "import string\n",
    "\n",
    "def remove_punctuation(text):\n",
    "    text_without_punctuation = ''.join([k for k in text if k not in string.punctuation])\n",
    "    text_without_punctuation = text_without_punctuation\n",
    "    return text_without_punctuation"
   ]
  },
  {
   "cell_type": "code",
   "execution_count": 15,
   "metadata": {},
   "outputs": [],
   "source": [
    "training_data['Combined_CONV_text'] = training_data['Combined_CONV_text'].apply(lambda x: remove_html_tags(x))\n",
    "test_data['Combined_CONV_text'] = test_data['Combined_CONV_text'].apply(lambda x: remove_html_tags(x))\n",
    "\n",
    "training_data['Combined_CONV_text'] = training_data['Combined_CONV_text'].apply(lambda x: remove_punctuation(x))\n",
    "test_data['Combined_CONV_text'] = test_data['Combined_CONV_text'].apply(lambda x: remove_punctuation(x))"
   ]
  },
  {
   "cell_type": "code",
   "execution_count": 16,
   "metadata": {},
   "outputs": [
    {
     "data": {
      "text/html": [
       "<div>\n",
       "<style scoped>\n",
       "    .dataframe tbody tr th:only-of-type {\n",
       "        vertical-align: middle;\n",
       "    }\n",
       "\n",
       "    .dataframe tbody tr th {\n",
       "        vertical-align: top;\n",
       "    }\n",
       "\n",
       "    .dataframe thead th {\n",
       "        text-align: right;\n",
       "    }\n",
       "</style>\n",
       "<table border=\"1\" class=\"dataframe\">\n",
       "  <thead>\n",
       "    <tr style=\"text-align: right;\">\n",
       "      <th></th>\n",
       "      <th>Source</th>\n",
       "      <th>Patient_Tag</th>\n",
       "      <th>Combined_CONV_text</th>\n",
       "    </tr>\n",
       "  </thead>\n",
       "  <tbody>\n",
       "    <tr>\n",
       "      <th>0</th>\n",
       "      <td>FORUMS</td>\n",
       "      <td>0</td>\n",
       "      <td>Epstein I dont disagree with you in principle ...</td>\n",
       "    </tr>\n",
       "    <tr>\n",
       "      <th>1</th>\n",
       "      <td>FORUMS</td>\n",
       "      <td>1</td>\n",
       "      <td>Enlarged HeartThread Enlarged Heart I am alway...</td>\n",
       "    </tr>\n",
       "    <tr>\n",
       "      <th>2</th>\n",
       "      <td>BLOG</td>\n",
       "      <td>0</td>\n",
       "      <td>Queen Latifah Joins American Heart Association...</td>\n",
       "    </tr>\n",
       "    <tr>\n",
       "      <th>3</th>\n",
       "      <td>FORUMS</td>\n",
       "      <td>1</td>\n",
       "      <td>Bulaemia I am 17 and I have been throwing up f...</td>\n",
       "    </tr>\n",
       "    <tr>\n",
       "      <th>4</th>\n",
       "      <td>FORUMS</td>\n",
       "      <td>0</td>\n",
       "      <td>DIY Silver interconnects and RCAs Quote Origin...</td>\n",
       "    </tr>\n",
       "    <tr>\n",
       "      <th>5</th>\n",
       "      <td>FORUMS</td>\n",
       "      <td>0</td>\n",
       "      <td>Personal Question Theres a discussion about re...</td>\n",
       "    </tr>\n",
       "    <tr>\n",
       "      <th>6</th>\n",
       "      <td>FORUMS</td>\n",
       "      <td>1</td>\n",
       "      <td>TIL that CVS took a 2 billion hit to annual sa...</td>\n",
       "    </tr>\n",
       "    <tr>\n",
       "      <th>7</th>\n",
       "      <td>BLOG</td>\n",
       "      <td>0</td>\n",
       "      <td>Causes of Low Blood PressureHypo tension Blood...</td>\n",
       "    </tr>\n",
       "    <tr>\n",
       "      <th>8</th>\n",
       "      <td>FORUMS</td>\n",
       "      <td>0</td>\n",
       "      <td>Sleep disorders may predict heart events after...</td>\n",
       "    </tr>\n",
       "    <tr>\n",
       "      <th>9</th>\n",
       "      <td>FORUMS</td>\n",
       "      <td>0</td>\n",
       "      <td>Nominations for worst manager at Novartis wors...</td>\n",
       "    </tr>\n",
       "  </tbody>\n",
       "</table>\n",
       "</div>"
      ],
      "text/plain": [
       "   Source  Patient_Tag                                 Combined_CONV_text\n",
       "0  FORUMS            0  Epstein I dont disagree with you in principle ...\n",
       "1  FORUMS            1  Enlarged HeartThread Enlarged Heart I am alway...\n",
       "2    BLOG            0  Queen Latifah Joins American Heart Association...\n",
       "3  FORUMS            1  Bulaemia I am 17 and I have been throwing up f...\n",
       "4  FORUMS            0  DIY Silver interconnects and RCAs Quote Origin...\n",
       "5  FORUMS            0  Personal Question Theres a discussion about re...\n",
       "6  FORUMS            1  TIL that CVS took a 2 billion hit to annual sa...\n",
       "7    BLOG            0  Causes of Low Blood PressureHypo tension Blood...\n",
       "8  FORUMS            0  Sleep disorders may predict heart events after...\n",
       "9  FORUMS            0  Nominations for worst manager at Novartis wors..."
      ]
     },
     "execution_count": 16,
     "metadata": {},
     "output_type": "execute_result"
    }
   ],
   "source": [
    "training_data.head(10)"
   ]
  },
  {
   "cell_type": "markdown",
   "metadata": {},
   "source": [
    "## 3. EDA"
   ]
  },
  {
   "cell_type": "markdown",
   "metadata": {},
   "source": [
    "### A. Class Imbalance Study  \n",
    "A highly unbalanced class can result in insufficient data regarding the minor class and improper learning by the machine learning algorithm. To tackle which we can use Oversampling and Undersampling techniques. But first, we need to see what we are dealing with..."
   ]
  },
  {
   "cell_type": "code",
   "execution_count": 33,
   "metadata": {},
   "outputs": [
    {
     "data": {
      "text/plain": [
       "<matplotlib.axes._subplots.AxesSubplot at 0x211cb9d0e48>"
      ]
     },
     "execution_count": 33,
     "metadata": {},
     "output_type": "execute_result"
    },
    {
     "data": {
      "image/png": "[encoded data removed]",
      "text/plain": [
       "<Figure size 720x432 with 1 Axes>"
      ]
     },
     "metadata": {},
     "output_type": "display_data"
    }
   ],
   "source": [
    "barplot_dim = (10, 6)\n",
    "ax = plt.subplots(figsize=barplot_dim)\n",
    "sns.countplot(x='Patient_Tag', data=training_data)"
   ]
  },
  {
   "cell_type": "markdown",
   "metadata": {},
   "source": [
    "This is a slightly imbalanced data-set. Nothing too bad. No need to be worried."
   ]
  },
  {
   "cell_type": "markdown",
   "metadata": {},
   "source": [
    "### B. Social Media Strength  \n",
    "We can gaze the relevance of different domains/media to patient tags and prefrerably identify which social media platform do patients prefer the most for discussion or posting. This might add a value to the importance of that social media while trying to identify patients from that particular platform."
   ]
  },
  {
   "cell_type": "code",
   "execution_count": 34,
   "metadata": {},
   "outputs": [],
   "source": [
    "training_data['Source'] = training_data['Source'].apply(lambda x: x.upper())"
   ]
  },
  {
   "cell_type": "code",
   "execution_count": 35,
   "metadata": {},
   "outputs": [
    {
     "data": {
      "image/png": "[encoded data removed]",
      "text/plain": [
       "<Figure size 720x432 with 1 Axes>"
      ]
     },
     "metadata": {},
     "output_type": "display_data"
    }
   ],
   "source": [
    "barplot_dim = (10, 6)\n",
    "ax = plt.subplots(figsize=barplot_dim)\n",
    "ax = sns.countplot(x='Source', data=training_data)\n",
    "ax.set_ylabel('Number of Conversations',size=20)\n",
    "ax.set_xlabel('Source',size=20)\n",
    "ax.set_title('Data Collected vs Source',size=30);"
   ]
  },
  {
   "cell_type": "code",
   "execution_count": 36,
   "metadata": {},
   "outputs": [
    {
     "data": {
      "image/png": "[encoded data removed]",
      "text/plain": [
       "<Figure size 720x432 with 1 Axes>"
      ]
     },
     "metadata": {},
     "output_type": "display_data"
    }
   ],
   "source": [
    "positive_patient_data = training_data[training_data['Patient_Tag']==1]\n",
    "\n",
    "barplot_dim = (10, 6)\n",
    "ax = plt.subplots(figsize=barplot_dim)\n",
    "ax = sns.countplot(x='Source', data=positive_patient_data)\n",
    "ax.set_ylabel('Number of Positive Conversations',size=20)\n",
    "ax.set_xlabel('Source',size=20)\n",
    "ax.set_title('Patient Data Collected vs Source',size=30);"
   ]
  },
  {
   "cell_type": "code",
   "execution_count": 37,
   "metadata": {},
   "outputs": [],
   "source": [
    "total_posts_per_platform = dict(training_data['Source'].value_counts())\n",
    "total_positive_posts_per_platform = dict(positive_patient_data['Source'].value_counts())\n",
    "positive_percentage = {}\n",
    "\n",
    "for key in total_posts_per_platform:\n",
    "    try:\n",
    "        positive_percentage[key] = (total_positive_posts_per_platform[key]/total_posts_per_platform[key])*100\n",
    "    except:\n",
    "        pass"
   ]
  },
  {
   "cell_type": "code",
   "execution_count": 38,
   "metadata": {},
   "outputs": [
    {
     "data": {
      "image/png": "[encoded data removed]",
      "text/plain": [
       "<Figure size 720x432 with 1 Axes>"
      ]
     },
     "metadata": {},
     "output_type": "display_data"
    }
   ],
   "source": [
    "barplot_dim = (10, 6)\n",
    "ax = plt.subplots(figsize=barplot_dim)\n",
    "ax = sns.barplot(x=list(positive_percentage.keys()), y=list(positive_percentage.values()), palette=['C0', 'C1', 'C2'])\n",
    "ax.set_ylabel('% of Positive Conversations',size=20)\n",
    "ax.set_xlabel('Source',size=20)\n",
    "ax.set_title('% Patient Data per Source',size=30);"
   ]
  },
  {
   "cell_type": "markdown",
   "metadata": {},
   "source": [
    "### C. Scatter Text  \n",
    "Scatter of the words used in our corpus with respect to their relevant tags would provide key informations like:-  \n",
    "\"What words are most common identifiers of a patient?\"  \n",
    "\"What words have no relevance to the patient at all?\""
   ]
  },
  {
   "cell_type": "code",
   "execution_count": 39,
   "metadata": {},
   "outputs": [
    {
     "name": "stderr",
     "output_type": "stream",
     "text": [
      "C:\\Anaconda\\lib\\site-packages\\sklearn\\utils\\deprecation.py:144: FutureWarning: The sklearn.feature_extraction.stop_words module is  deprecated in version 0.22 and will be removed in version 0.24. The corresponding classes / functions should instead be imported from sklearn.feature_extraction.text. Anything that cannot be imported from sklearn.feature_extraction.text is now part of the private API.\n",
      "  warnings.warn(message, FutureWarning)\n"
     ]
    }
   ],
   "source": [
    "# import scattertext as st\n",
    "\n",
    "# corpus_dataframe = training_data.copy(deep=True)\n",
    "# corpus_dataframe['Patient_Tag'] = corpus_dataframe['Patient_Tag'].apply(lambda x: 'Patient' if x==1 else 'Not Patient')\n",
    "# corpus_dataframe['Combined_CONV_text'] = corpus_dataframe['Combined_CONV_text'].apply(nlp)\n",
    "\n",
    "# corpus = st.CorpusFromParsedDocuments(corpus_dataframe,\n",
    "#                                       category_col='Patient_Tag',\n",
    "#                                       parsed_col='Combined_CONV_text').build()"
   ]
  },
  {
   "cell_type": "code",
   "execution_count": 40,
   "metadata": {},
   "outputs": [],
   "source": [
    "# html = st.produce_scattertext_explorer(corpus,\n",
    "#                                        category='Patient',\n",
    "#                                        category_name='Patient',\n",
    "#                                        not_category_name='Not Patient')"
   ]
  },
  {
   "cell_type": "markdown",
   "metadata": {},
   "source": [
    "I am using Pandas 1.0; so this implementation of scatter text was giving some errors; on running the same code in Pandas 0.8 using the Google Colab environment, this is the result.\n",
    "\n",
    "![alt text](Scatter_text.png 'Iterations and_Threshold Tuning Summary')  \n",
    "\n",
    "Since we see I, Me etc are major identifiers of a patient speaking about themselves; doing stop-word removal (which is a essential step in most of the NLP problems) might actually hamper our predictions due to loss of key information."
   ]
  },
  {
   "cell_type": "markdown",
   "metadata": {},
   "source": [
    "## 4. Feature Engineering"
   ]
  },
  {
   "cell_type": "markdown",
   "metadata": {},
   "source": [
    "### A. Train-Validation Split  \n",
    "Before we do any transformation operations on the data; it is advisabvle to split it into Train and Validation sets to avoid any leakage. So that we can treat out validation data as purely unknown data for our model and out features."
   ]
  },
  {
   "cell_type": "code",
   "execution_count": 17,
   "metadata": {},
   "outputs": [],
   "source": [
    "from sklearn.model_selection import train_test_split\n",
    "\n",
    "X_train, X_valid, y_train, y_valid = train_test_split(training_data.drop(['Patient_Tag', 'Source'], axis=1),\n",
    "                                                      training_data['Patient_Tag'], test_size=0.3, random_state=0,\n",
    "                                                      stratify=training_data['Patient_Tag'],shuffle=True)"
   ]
  },
  {
   "cell_type": "code",
   "execution_count": 18,
   "metadata": {},
   "outputs": [],
   "source": [
    "X_test = test_data"
   ]
  },
  {
   "cell_type": "code",
   "execution_count": 19,
   "metadata": {},
   "outputs": [
    {
     "data": {
      "text/html": [
       "<div>\n",
       "<style scoped>\n",
       "    .dataframe tbody tr th:only-of-type {\n",
       "        vertical-align: middle;\n",
       "    }\n",
       "\n",
       "    .dataframe tbody tr th {\n",
       "        vertical-align: top;\n",
       "    }\n",
       "\n",
       "    .dataframe thead th {\n",
       "        text-align: right;\n",
       "    }\n",
       "</style>\n",
       "<table border=\"1\" class=\"dataframe\">\n",
       "  <thead>\n",
       "    <tr style=\"text-align: right;\">\n",
       "      <th></th>\n",
       "      <th>Combined_CONV_text</th>\n",
       "    </tr>\n",
       "  </thead>\n",
       "  <tbody>\n",
       "    <tr>\n",
       "      <th>848</th>\n",
       "      <td>VERSAILLES HEALTH CARE CENTER CELEBRATES NATIO...</td>\n",
       "    </tr>\n",
       "    <tr>\n",
       "      <th>489</th>\n",
       "      <td>Exercise Pathophysiology of Heart Failure 4  P...</td>\n",
       "    </tr>\n",
       "    <tr>\n",
       "      <th>262</th>\n",
       "      <td>Right side heart valves slower Thats what Ive ...</td>\n",
       "    </tr>\n",
       "    <tr>\n",
       "      <th>550</th>\n",
       "      <td>Heart failure survivor here Diagnosed at 32...</td>\n",
       "    </tr>\n",
       "    <tr>\n",
       "      <th>1101</th>\n",
       "      <td>Irregular heart beats after a gram of coke las...</td>\n",
       "    </tr>\n",
       "    <tr>\n",
       "      <th>569</th>\n",
       "      <td>uMusai on Bridgehead customers tried to restr...</td>\n",
       "    </tr>\n",
       "    <tr>\n",
       "      <th>269</th>\n",
       "      <td>Matthew 25 44 Then shall they also answer h...</td>\n",
       "    </tr>\n",
       "    <tr>\n",
       "      <th>217</th>\n",
       "      <td>Monitise Share Chat  Chat About MONI Shares  S...</td>\n",
       "    </tr>\n",
       "    <tr>\n",
       "      <th>628</th>\n",
       "      <td>Cardiologue Hf  Avignon CARDIOLOGIST H  F 84 8...</td>\n",
       "    </tr>\n",
       "    <tr>\n",
       "      <th>826</th>\n",
       "      <td>Anyone take blood pressure medication Re Anyon...</td>\n",
       "    </tr>\n",
       "  </tbody>\n",
       "</table>\n",
       "</div>"
      ],
      "text/plain": [
       "                                     Combined_CONV_text\n",
       "848   VERSAILLES HEALTH CARE CENTER CELEBRATES NATIO...\n",
       "489   Exercise Pathophysiology of Heart Failure 4  P...\n",
       "262   Right side heart valves slower Thats what Ive ...\n",
       "550      Heart failure survivor here Diagnosed at 32...\n",
       "1101  Irregular heart beats after a gram of coke las...\n",
       "569    uMusai on Bridgehead customers tried to restr...\n",
       "269      Matthew 25 44 Then shall they also answer h...\n",
       "217   Monitise Share Chat  Chat About MONI Shares  S...\n",
       "628   Cardiologue Hf  Avignon CARDIOLOGIST H  F 84 8...\n",
       "826   Anyone take blood pressure medication Re Anyon..."
      ]
     },
     "execution_count": 19,
     "metadata": {},
     "output_type": "execute_result"
    }
   ],
   "source": [
    "X_train.head(10)"
   ]
  },
  {
   "cell_type": "code",
   "execution_count": 20,
   "metadata": {},
   "outputs": [
    {
     "data": {
      "text/html": [
       "<div>\n",
       "<style scoped>\n",
       "    .dataframe tbody tr th:only-of-type {\n",
       "        vertical-align: middle;\n",
       "    }\n",
       "\n",
       "    .dataframe tbody tr th {\n",
       "        vertical-align: top;\n",
       "    }\n",
       "\n",
       "    .dataframe thead th {\n",
       "        text-align: right;\n",
       "    }\n",
       "</style>\n",
       "<table border=\"1\" class=\"dataframe\">\n",
       "  <thead>\n",
       "    <tr style=\"text-align: right;\">\n",
       "      <th></th>\n",
       "      <th>Combined_CONV_text</th>\n",
       "    </tr>\n",
       "  </thead>\n",
       "  <tbody>\n",
       "    <tr>\n",
       "      <th>691</th>\n",
       "      <td>Bellator 156 ExFresno State wrestler returns t...</td>\n",
       "    </tr>\n",
       "    <tr>\n",
       "      <th>749</th>\n",
       "      <td>Maverick try drinking Gatorade You arent gett...</td>\n",
       "    </tr>\n",
       "    <tr>\n",
       "      <th>16</th>\n",
       "      <td>How big is the ALS market  Anybody  thats not ...</td>\n",
       "    </tr>\n",
       "    <tr>\n",
       "      <th>537</th>\n",
       "      <td>45000 people die every year due lack of access...</td>\n",
       "    </tr>\n",
       "    <tr>\n",
       "      <th>167</th>\n",
       "      <td>Update I have been taking it by pill also thi...</td>\n",
       "    </tr>\n",
       "    <tr>\n",
       "      <th>34</th>\n",
       "      <td>I am so so so congested I am not feeling well...</td>\n",
       "    </tr>\n",
       "    <tr>\n",
       "      <th>194</th>\n",
       "      <td>Social isolation isnt good for heart failure p...</td>\n",
       "    </tr>\n",
       "    <tr>\n",
       "      <th>293</th>\n",
       "      <td>Description How To Prevent Congestive Heart F...</td>\n",
       "    </tr>\n",
       "    <tr>\n",
       "      <th>350</th>\n",
       "      <td>Desktop Thread too much salt leads to heart fa...</td>\n",
       "    </tr>\n",
       "    <tr>\n",
       "      <th>286</th>\n",
       "      <td>Pharmacologic Trends of Heart Failure Pharmaco...</td>\n",
       "    </tr>\n",
       "  </tbody>\n",
       "</table>\n",
       "</div>"
      ],
      "text/plain": [
       "                                    Combined_CONV_text\n",
       "691  Bellator 156 ExFresno State wrestler returns t...\n",
       "749   Maverick try drinking Gatorade You arent gett...\n",
       "16   How big is the ALS market  Anybody  thats not ...\n",
       "537  45000 people die every year due lack of access...\n",
       "167   Update I have been taking it by pill also thi...\n",
       "34    I am so so so congested I am not feeling well...\n",
       "194  Social isolation isnt good for heart failure p...\n",
       "293   Description How To Prevent Congestive Heart F...\n",
       "350  Desktop Thread too much salt leads to heart fa...\n",
       "286  Pharmacologic Trends of Heart Failure Pharmaco..."
      ]
     },
     "execution_count": 20,
     "metadata": {},
     "output_type": "execute_result"
    }
   ],
   "source": [
    "X_valid.head(10)"
   ]
  },
  {
   "cell_type": "code",
   "execution_count": 21,
   "metadata": {},
   "outputs": [
    {
     "data": {
      "text/html": [
       "<div>\n",
       "<style scoped>\n",
       "    .dataframe tbody tr th:only-of-type {\n",
       "        vertical-align: middle;\n",
       "    }\n",
       "\n",
       "    .dataframe tbody tr th {\n",
       "        vertical-align: top;\n",
       "    }\n",
       "\n",
       "    .dataframe thead th {\n",
       "        text-align: right;\n",
       "    }\n",
       "</style>\n",
       "<table border=\"1\" class=\"dataframe\">\n",
       "  <thead>\n",
       "    <tr style=\"text-align: right;\">\n",
       "      <th></th>\n",
       "      <th>Source</th>\n",
       "      <th>Combined_CONV_text</th>\n",
       "    </tr>\n",
       "    <tr>\n",
       "      <th>Index</th>\n",
       "      <th></th>\n",
       "      <th></th>\n",
       "    </tr>\n",
       "  </thead>\n",
       "  <tbody>\n",
       "    <tr>\n",
       "      <th>1</th>\n",
       "      <td>BLOG</td>\n",
       "      <td>Baby Slice the son of the late Kimbo Slice ha...</td>\n",
       "    </tr>\n",
       "    <tr>\n",
       "      <th>2</th>\n",
       "      <td>FORUMS</td>\n",
       "      <td>My Story  I have had both silicone and salinef...</td>\n",
       "    </tr>\n",
       "    <tr>\n",
       "      <th>3</th>\n",
       "      <td>BLOG</td>\n",
       "      <td>US FDA canagliflozindapagliflozin Previously s...</td>\n",
       "    </tr>\n",
       "    <tr>\n",
       "      <th>4</th>\n",
       "      <td>FORUMS</td>\n",
       "      <td>Hello I suffer from congestive heart failure ...</td>\n",
       "    </tr>\n",
       "    <tr>\n",
       "      <th>5</th>\n",
       "      <td>BLOG</td>\n",
       "      <td>Vitamin D improves heart function study finds ...</td>\n",
       "    </tr>\n",
       "    <tr>\n",
       "      <th>6</th>\n",
       "      <td>Facebook</td>\n",
       "      <td>reuterscom A stem cell therapy developed by V...</td>\n",
       "    </tr>\n",
       "    <tr>\n",
       "      <th>7</th>\n",
       "      <td>FORUMS</td>\n",
       "      <td>TODO SOBRE GSM Sorry I ran out of credit httpw...</td>\n",
       "    </tr>\n",
       "    <tr>\n",
       "      <th>8</th>\n",
       "      <td>FORUMS</td>\n",
       "      <td>The sun will come out tomorrowBut for people ...</td>\n",
       "    </tr>\n",
       "    <tr>\n",
       "      <th>9</th>\n",
       "      <td>BLOG</td>\n",
       "      <td>Pathophysiology of Heart failure Pathophysiolo...</td>\n",
       "    </tr>\n",
       "    <tr>\n",
       "      <th>10</th>\n",
       "      <td>BLOG</td>\n",
       "      <td>Vericel stem cell therapy cuts heart failure d...</td>\n",
       "    </tr>\n",
       "  </tbody>\n",
       "</table>\n",
       "</div>"
      ],
      "text/plain": [
       "         Source                                 Combined_CONV_text\n",
       "Index                                                             \n",
       "1          BLOG   Baby Slice the son of the late Kimbo Slice ha...\n",
       "2        FORUMS  My Story  I have had both silicone and salinef...\n",
       "3          BLOG  US FDA canagliflozindapagliflozin Previously s...\n",
       "4        FORUMS   Hello I suffer from congestive heart failure ...\n",
       "5          BLOG  Vitamin D improves heart function study finds ...\n",
       "6      Facebook   reuterscom A stem cell therapy developed by V...\n",
       "7        FORUMS  TODO SOBRE GSM Sorry I ran out of credit httpw...\n",
       "8        FORUMS   The sun will come out tomorrowBut for people ...\n",
       "9          BLOG  Pathophysiology of Heart failure Pathophysiolo...\n",
       "10         BLOG  Vericel stem cell therapy cuts heart failure d..."
      ]
     },
     "execution_count": 21,
     "metadata": {},
     "output_type": "execute_result"
    }
   ],
   "source": [
    "X_test.head(10)"
   ]
  },
  {
   "cell_type": "markdown",
   "metadata": {},
   "source": [
    "### B. Text Preparation  \n",
    "We need to convert words to their basic form and get rid of capitalization, numbers and extra spaces that add no real meaning to the information about the chatter."
   ]
  },
  {
   "cell_type": "code",
   "execution_count": 22,
   "metadata": {},
   "outputs": [],
   "source": [
    "import re\n",
    "\n",
    "def prepare_text(text):\n",
    "    #convert all to lowercase\n",
    "    text = str(text).lower()\n",
    "    \n",
    "    #remove numbers\n",
    "    text = re.sub(r'\\d+', '', text)\n",
    "    \n",
    "    #remove extra white spaces\n",
    "    text = text.strip()\n",
    "    \n",
    "    return text"
   ]
  },
  {
   "cell_type": "code",
   "execution_count": 23,
   "metadata": {},
   "outputs": [],
   "source": [
    "X_train['Combined_CONV_text'] = X_train['Combined_CONV_text'].apply(lambda x: prepare_text(x))\n",
    "X_valid['Combined_CONV_text'] = X_valid['Combined_CONV_text'].apply(lambda x: prepare_text(x))\n",
    "X_test['Combined_CONV_text'] = X_test['Combined_CONV_text'].apply(lambda x: prepare_text(x))"
   ]
  },
  {
   "cell_type": "code",
   "execution_count": 24,
   "metadata": {},
   "outputs": [
    {
     "data": {
      "text/html": [
       "<div>\n",
       "<style scoped>\n",
       "    .dataframe tbody tr th:only-of-type {\n",
       "        vertical-align: middle;\n",
       "    }\n",
       "\n",
       "    .dataframe tbody tr th {\n",
       "        vertical-align: top;\n",
       "    }\n",
       "\n",
       "    .dataframe thead th {\n",
       "        text-align: right;\n",
       "    }\n",
       "</style>\n",
       "<table border=\"1\" class=\"dataframe\">\n",
       "  <thead>\n",
       "    <tr style=\"text-align: right;\">\n",
       "      <th></th>\n",
       "      <th>Combined_CONV_text</th>\n",
       "    </tr>\n",
       "  </thead>\n",
       "  <tbody>\n",
       "    <tr>\n",
       "      <th>848</th>\n",
       "      <td>versailles health care center celebrates natio...</td>\n",
       "    </tr>\n",
       "    <tr>\n",
       "      <th>489</th>\n",
       "      <td>exercise pathophysiology of heart failure   pa...</td>\n",
       "    </tr>\n",
       "    <tr>\n",
       "      <th>262</th>\n",
       "      <td>right side heart valves slower thats what ive ...</td>\n",
       "    </tr>\n",
       "    <tr>\n",
       "      <th>550</th>\n",
       "      <td>heart failure survivor here diagnosed at  when...</td>\n",
       "    </tr>\n",
       "    <tr>\n",
       "      <th>1101</th>\n",
       "      <td>irregular heart beats after a gram of coke las...</td>\n",
       "    </tr>\n",
       "    <tr>\n",
       "      <th>569</th>\n",
       "      <td>umusai on bridgehead customers tried to restra...</td>\n",
       "    </tr>\n",
       "    <tr>\n",
       "      <th>269</th>\n",
       "      <td>matthew   then shall they also answer him sayi...</td>\n",
       "    </tr>\n",
       "    <tr>\n",
       "      <th>217</th>\n",
       "      <td>monitise share chat  chat about moni shares  s...</td>\n",
       "    </tr>\n",
       "    <tr>\n",
       "      <th>628</th>\n",
       "      <td>cardiologue hf  avignon cardiologist h  f   ph...</td>\n",
       "    </tr>\n",
       "    <tr>\n",
       "      <th>826</th>\n",
       "      <td>anyone take blood pressure medication re anyon...</td>\n",
       "    </tr>\n",
       "  </tbody>\n",
       "</table>\n",
       "</div>"
      ],
      "text/plain": [
       "                                     Combined_CONV_text\n",
       "848   versailles health care center celebrates natio...\n",
       "489   exercise pathophysiology of heart failure   pa...\n",
       "262   right side heart valves slower thats what ive ...\n",
       "550   heart failure survivor here diagnosed at  when...\n",
       "1101  irregular heart beats after a gram of coke las...\n",
       "569   umusai on bridgehead customers tried to restra...\n",
       "269   matthew   then shall they also answer him sayi...\n",
       "217   monitise share chat  chat about moni shares  s...\n",
       "628   cardiologue hf  avignon cardiologist h  f   ph...\n",
       "826   anyone take blood pressure medication re anyon..."
      ]
     },
     "execution_count": 24,
     "metadata": {},
     "output_type": "execute_result"
    }
   ],
   "source": [
    "X_train.head(10)"
   ]
  },
  {
   "cell_type": "markdown",
   "metadata": {},
   "source": [
    "### C. Lemmatization  \n",
    "Lemmatization transforms each word to its base lemma or base form; which is enough to get the sense from the data without increasing our dimensions seeking grammatically correct words."
   ]
  },
  {
   "cell_type": "code",
   "execution_count": 28,
   "metadata": {},
   "outputs": [],
   "source": [
    "def lemmatizer(text, nlp=nlp):\n",
    "    doc = nlp(text)\n",
    "    lemma_list = []\n",
    "    for token in doc:\n",
    "        lemma_list.append(token.lemma_)\n",
    "    \n",
    "    lemmatized_sentence = \" \".join(lemma_list)\n",
    "        \n",
    "    return lemmatized_sentence"
   ]
  },
  {
   "cell_type": "code",
   "execution_count": 29,
   "metadata": {},
   "outputs": [],
   "source": [
    "X_train['Combined_CONV_text'] = X_train['Combined_CONV_text'].apply(lambda x: lemmatizer(x))\n",
    "X_valid['Combined_CONV_text'] = X_valid['Combined_CONV_text'].apply(lambda x: lemmatizer(x))\n",
    "X_test['Combined_CONV_text'] = X_test['Combined_CONV_text'].apply(lambda x: lemmatizer(x))"
   ]
  },
  {
   "cell_type": "code",
   "execution_count": 30,
   "metadata": {},
   "outputs": [
    {
     "data": {
      "text/html": [
       "<div>\n",
       "<style scoped>\n",
       "    .dataframe tbody tr th:only-of-type {\n",
       "        vertical-align: middle;\n",
       "    }\n",
       "\n",
       "    .dataframe tbody tr th {\n",
       "        vertical-align: top;\n",
       "    }\n",
       "\n",
       "    .dataframe thead th {\n",
       "        text-align: right;\n",
       "    }\n",
       "</style>\n",
       "<table border=\"1\" class=\"dataframe\">\n",
       "  <thead>\n",
       "    <tr style=\"text-align: right;\">\n",
       "      <th></th>\n",
       "      <th>Combined_CONV_text</th>\n",
       "    </tr>\n",
       "  </thead>\n",
       "  <tbody>\n",
       "    <tr>\n",
       "      <th>848</th>\n",
       "      <td>versailles health care center celebrate nation...</td>\n",
       "    </tr>\n",
       "    <tr>\n",
       "      <th>489</th>\n",
       "      <td>exercise pathophysiology of heart failure    p...</td>\n",
       "    </tr>\n",
       "    <tr>\n",
       "      <th>262</th>\n",
       "      <td>right side heart valve slow that s what -PRON-...</td>\n",
       "    </tr>\n",
       "    <tr>\n",
       "      <th>550</th>\n",
       "      <td>heart failure survivor here diagnose at   when...</td>\n",
       "    </tr>\n",
       "    <tr>\n",
       "      <th>1101</th>\n",
       "      <td>irregular heart beat after a gram of coke last...</td>\n",
       "    </tr>\n",
       "    <tr>\n",
       "      <th>569</th>\n",
       "      <td>umusai on bridgehead customer try to restrain ...</td>\n",
       "    </tr>\n",
       "    <tr>\n",
       "      <th>269</th>\n",
       "      <td>matthew    then shall -PRON- also answer -PRON...</td>\n",
       "    </tr>\n",
       "    <tr>\n",
       "      <th>217</th>\n",
       "      <td>monitise share chat   chat about moni share   ...</td>\n",
       "    </tr>\n",
       "    <tr>\n",
       "      <th>628</th>\n",
       "      <td>cardiologue hf   avignon cardiologist h   f   ...</td>\n",
       "    </tr>\n",
       "    <tr>\n",
       "      <th>826</th>\n",
       "      <td>anyone take blood pressure medication re anyon...</td>\n",
       "    </tr>\n",
       "  </tbody>\n",
       "</table>\n",
       "</div>"
      ],
      "text/plain": [
       "                                     Combined_CONV_text\n",
       "848   versailles health care center celebrate nation...\n",
       "489   exercise pathophysiology of heart failure    p...\n",
       "262   right side heart valve slow that s what -PRON-...\n",
       "550   heart failure survivor here diagnose at   when...\n",
       "1101  irregular heart beat after a gram of coke last...\n",
       "569   umusai on bridgehead customer try to restrain ...\n",
       "269   matthew    then shall -PRON- also answer -PRON...\n",
       "217   monitise share chat   chat about moni share   ...\n",
       "628   cardiologue hf   avignon cardiologist h   f   ...\n",
       "826   anyone take blood pressure medication re anyon..."
      ]
     },
     "execution_count": 30,
     "metadata": {},
     "output_type": "execute_result"
    }
   ],
   "source": [
    "X_train.head(10)"
   ]
  },
  {
   "cell_type": "markdown",
   "metadata": {},
   "source": [
    "### Word Cloud  \n",
    "This is essentially a part of EDA. But we needed to have a cleaned and processed data set before we could make any sense of word frequency in out data.  \n",
    "Word cloud helps to to visualize the most frequently used words in our corpus. This is a good indicator of relevant features in our data."
   ]
  },
  {
   "cell_type": "code",
   "execution_count": 31,
   "metadata": {},
   "outputs": [],
   "source": [
    "from wordcloud import WordCloud"
   ]
  },
  {
   "cell_type": "code",
   "execution_count": 32,
   "metadata": {},
   "outputs": [
    {
     "data": {
      "image/png": "[encoded data removed]",
      "text/plain": [
       "<Figure size 1440x576 with 1 Axes>"
      ]
     },
     "metadata": {},
     "output_type": "display_data"
    }
   ],
   "source": [
    "text = ' '.join(X_train['Combined_CONV_text'])\n",
    "# text\n",
    "wordcloud = WordCloud(width=2560, height=1440).generate(text)\n",
    "\n",
    "barplot_dim = (20, 8)\n",
    "ax = plt.subplots(figsize=barplot_dim, facecolor='k')\n",
    "plt.imshow(wordcloud)\n",
    "plt.axis(\"off\")\n",
    "plt.tight_layout(pad=0)\n",
    "plt.show()"
   ]
  },
  {
   "cell_type": "markdown",
   "metadata": {},
   "source": [
    "## 5. Modelling  \n",
    "Let us for now consider using the actual conversation as a feature for the sake of simplicity. We can revisit the forum features afterwards if our predictors are not that strong."
   ]
  },
  {
   "cell_type": "code",
   "execution_count": 41,
   "metadata": {},
   "outputs": [],
   "source": [
    "X_train = X_train['Combined_CONV_text']\n",
    "X_valid = X_valid['Combined_CONV_text']\n",
    "X_test = X_test['Combined_CONV_text']"
   ]
  },
  {
   "cell_type": "markdown",
   "metadata": {},
   "source": [
    "This is a very basic function to rate the performance of our various models so that we can have a benchmark of their performance."
   ]
  },
  {
   "cell_type": "code",
   "execution_count": 42,
   "metadata": {},
   "outputs": [],
   "source": [
    "from sklearn.metrics import roc_auc_score\n",
    "from sklearn.metrics import accuracy_score\n",
    "from sklearn.metrics import precision_recall_fscore_support\n",
    "\n",
    "def rate_model(predictions, y_valid=y_valid):\n",
    "    roc = roc_auc_score(y_valid, predictions)\n",
    "    acc = accuracy_score(y_valid, predictions)\n",
    "    precision_recall_fscore = precision_recall_fscore_support(y_valid, predictions, average='weighted')\n",
    "    print(f'ROC: {roc}\\nAccuracy: {acc}\\nPrecision: {precision_recall_fscore[0]}\\nRecall: {precision_recall_fscore[1]}\\nF-Score: {precision_recall_fscore[2]}')"
   ]
  },
  {
   "cell_type": "markdown",
   "metadata": {},
   "source": [
    "### A. Logistic Regression  \n",
    "Started with a very basic model for the sake of simplicity and speed. This will establish a baseline score for our sucessive models."
   ]
  },
  {
   "cell_type": "code",
   "execution_count": 43,
   "metadata": {},
   "outputs": [],
   "source": [
    "from sklearn.feature_extraction.text import TfidfVectorizer, CountVectorizer"
   ]
  },
  {
   "cell_type": "markdown",
   "metadata": {},
   "source": [
    "We will use a very basic Vectorizer in the beginning and gradually move towards more complex ones; again for the sake of simplicity."
   ]
  },
  {
   "cell_type": "code",
   "execution_count": 44,
   "metadata": {},
   "outputs": [],
   "source": [
    "tfv = TfidfVectorizer(min_df=3,  max_features=None, strip_accents='unicode', analyzer='word',token_pattern=r'\\w{1,}',\n",
    "                      ngram_range=(1, 3), use_idf=1,smooth_idf=1,sublinear_tf=1, stop_words = 'english')\n",
    "\n",
    "tfv.fit(list(X_train) + list(X_valid))\n",
    "xtrain_tfv =  tfv.transform(X_train) \n",
    "xvalid_tfv = tfv.transform(X_valid)"
   ]
  },
  {
   "cell_type": "code",
   "execution_count": 45,
   "metadata": {},
   "outputs": [
    {
     "name": "stdout",
     "output_type": "stream",
     "text": [
      "ROC: 0.5416666666666666\n",
      "Accuracy: 0.8097982708933718\n",
      "Precision: 0.8466115087849772\n",
      "Recall: 0.8097982708933718\n",
      "F-Score: 0.739517686924027\n"
     ]
    }
   ],
   "source": [
    "from sklearn.linear_model import LogisticRegression\n",
    "\n",
    "clf = LogisticRegression(C=1.0)\n",
    "clf.fit(xtrain_tfv, y_train)\n",
    "predictions = clf.predict(xvalid_tfv)\n",
    "\n",
    "rate_model(predictions)"
   ]
  },
  {
   "cell_type": "code",
   "execution_count": 46,
   "metadata": {},
   "outputs": [],
   "source": [
    "ctv = CountVectorizer(analyzer='word', token_pattern=r'\\w{1,}', ngram_range=(1, 3), stop_words = 'english')\n",
    "\n",
    "ctv.fit(list(X_train) + list(X_valid))\n",
    "xtrain_ctv =  ctv.transform(X_train)  \n",
    "xvalid_ctv = ctv.transform(X_valid)"
   ]
  },
  {
   "cell_type": "code",
   "execution_count": 47,
   "metadata": {},
   "outputs": [
    {
     "name": "stdout",
     "output_type": "stream",
     "text": [
      "ROC: 0.7257070707070706\n",
      "Accuracy: 0.8414985590778098\n",
      "Precision: 0.8325867538275343\n",
      "Recall: 0.8414985590778098\n",
      "F-Score: 0.8354639293527883\n"
     ]
    },
    {
     "name": "stderr",
     "output_type": "stream",
     "text": [
      "C:\\Anaconda\\lib\\site-packages\\sklearn\\linear_model\\_logistic.py:940: ConvergenceWarning: lbfgs failed to converge (status=1):\n",
      "STOP: TOTAL NO. of ITERATIONS REACHED LIMIT.\n",
      "\n",
      "Increase the number of iterations (max_iter) or scale the data as shown in:\n",
      "    https://scikit-learn.org/stable/modules/preprocessing.html\n",
      "Please also refer to the documentation for alternative solver options:\n",
      "    https://scikit-learn.org/stable/modules/linear_model.html#logistic-regression\n",
      "  extra_warning_msg=_LOGISTIC_SOLVER_CONVERGENCE_MSG)\n"
     ]
    }
   ],
   "source": [
    "clf = LogisticRegression(C=1.0)\n",
    "clf.fit(xtrain_ctv, y_train)\n",
    "predictions = clf.predict(xvalid_ctv)\n",
    "\n",
    "rate_model(predictions)"
   ]
  },
  {
   "cell_type": "markdown",
   "metadata": {},
   "source": [
    "We also can gaze into the performance of pre-trained vectors from Spacy library."
   ]
  },
  {
   "cell_type": "code",
   "execution_count": 48,
   "metadata": {},
   "outputs": [],
   "source": [
    "document = nlp.pipe(X_train)\n",
    "xtrain_stv = np.array([text.vector for text in document])\n",
    "document = nlp.pipe(X_valid)\n",
    "xvalid_stv = np.array([text.vector for text in document])"
   ]
  },
  {
   "cell_type": "code",
   "execution_count": 49,
   "metadata": {},
   "outputs": [
    {
     "name": "stdout",
     "output_type": "stream",
     "text": [
      "ROC: 0.8250757575757577\n",
      "Accuracy: 0.8933717579250721\n",
      "Precision: 0.8910114413523161\n",
      "Recall: 0.8933717579250721\n",
      "F-Score: 0.8919342911837678\n"
     ]
    }
   ],
   "source": [
    "clf = LogisticRegression(C=1.0)\n",
    "clf.fit(xtrain_stv, y_train)\n",
    "predictions = clf.predict(xvalid_stv)\n",
    "\n",
    "rate_model(predictions)"
   ]
  },
  {
   "cell_type": "markdown",
   "metadata": {},
   "source": [
    "Okay, so best Vectorizers are CountVectorizer and Spacy-Vectors.  \n",
    "We will use only those two to comapre between different models."
   ]
  },
  {
   "cell_type": "markdown",
   "metadata": {},
   "source": [
    "### B. Naive Bayes"
   ]
  },
  {
   "cell_type": "code",
   "execution_count": 50,
   "metadata": {},
   "outputs": [
    {
     "name": "stdout",
     "output_type": "stream",
     "text": [
      "ROC: 0.5277777777777778\n",
      "Accuracy: 0.8040345821325648\n",
      "Precision: 0.842884869056721\n",
      "Recall: 0.8040345821325648\n",
      "F-Score: 0.7271471115044542\n"
     ]
    }
   ],
   "source": [
    "from sklearn.naive_bayes import MultinomialNB\n",
    "\n",
    "clf = MultinomialNB()\n",
    "clf.fit(xtrain_tfv, y_train)\n",
    "predictions = clf.predict(xvalid_tfv)\n",
    "\n",
    "rate_model(predictions)"
   ]
  },
  {
   "cell_type": "code",
   "execution_count": 51,
   "metadata": {},
   "outputs": [
    {
     "name": "stdout",
     "output_type": "stream",
     "text": [
      "ROC: 0.809570707070707\n",
      "Accuracy: 0.7550432276657061\n",
      "Precision: 0.8596282369379505\n",
      "Recall: 0.7550432276657061\n",
      "F-Score: 0.7773351621252585\n"
     ]
    }
   ],
   "source": [
    "clf.fit(xtrain_ctv, y_train)\n",
    "predictions = clf.predict(xvalid_ctv)\n",
    "\n",
    "rate_model(predictions)"
   ]
  },
  {
   "cell_type": "markdown",
   "metadata": {},
   "source": [
    "Unfortunately we can not use Spacy vectors with Naive Bayes as it can not take negative vectors into account."
   ]
  },
  {
   "cell_type": "markdown",
   "metadata": {},
   "source": [
    "### C. KNN"
   ]
  },
  {
   "cell_type": "code",
   "execution_count": 52,
   "metadata": {},
   "outputs": [
    {
     "name": "stdout",
     "output_type": "stream",
     "text": [
      "ROC: 0.5627020202020202\n",
      "Accuracy: 0.6887608069164265\n",
      "Precision: 0.7101128523377658\n",
      "Recall: 0.6887608069164265\n",
      "F-Score: 0.6984851941365656\n"
     ]
    }
   ],
   "source": [
    "from sklearn.neighbors import KNeighborsClassifier\n",
    "\n",
    "clf = KNeighborsClassifier(n_neighbors=3)\n",
    "clf.fit(xtrain_ctv, y_train)\n",
    "predictions = clf.predict(xvalid_ctv)\n",
    "\n",
    "rate_model(predictions)"
   ]
  },
  {
   "cell_type": "code",
   "execution_count": 53,
   "metadata": {},
   "outputs": [
    {
     "name": "stdout",
     "output_type": "stream",
     "text": [
      "ROC: 0.8603030303030303\n",
      "Accuracy: 0.8760806916426513\n",
      "Precision: 0.8921668659150648\n",
      "Recall: 0.8760806916426513\n",
      "F-Score: 0.8810859705124454\n"
     ]
    }
   ],
   "source": [
    "clf.fit(xtrain_stv, y_train)\n",
    "predictions = clf.predict(xvalid_stv)\n",
    "\n",
    "rate_model(predictions)"
   ]
  },
  {
   "cell_type": "markdown",
   "metadata": {},
   "source": [
    "### D. SVM"
   ]
  },
  {
   "cell_type": "code",
   "execution_count": 54,
   "metadata": {},
   "outputs": [],
   "source": [
    "from sklearn.decomposition import TruncatedSVD\n",
    "from sklearn import preprocessing\n",
    "\n",
    "svd = TruncatedSVD(n_components=200)\n",
    "svd.fit(xtrain_ctv)\n",
    "xtrain_svd = svd.transform(xtrain_ctv)\n",
    "xvalid_svd = svd.transform(xvalid_ctv)\n",
    "\n",
    "scl = preprocessing.StandardScaler()\n",
    "scl.fit(xtrain_svd)\n",
    "xtrain_svd_scl_ctv = scl.transform(xtrain_svd)\n",
    "xvalid_svd_scl_ctv = scl.transform(xvalid_svd)"
   ]
  },
  {
   "cell_type": "code",
   "execution_count": 55,
   "metadata": {},
   "outputs": [
    {
     "name": "stdout",
     "output_type": "stream",
     "text": [
      "ROC: 0.5527525252525253\n",
      "Accuracy: 0.7867435158501441\n",
      "Precision: 0.7379395258786056\n",
      "Recall: 0.7867435158501441\n",
      "F-Score: 0.7419881834742128\n"
     ]
    }
   ],
   "source": [
    "from sklearn.svm import SVC\n",
    "\n",
    "clf = SVC(C=1.0)\n",
    "clf.fit(xtrain_svd_scl_ctv, y_train)\n",
    "predictions = clf.predict(xvalid_svd_scl_ctv)\n",
    "\n",
    "rate_model(predictions)"
   ]
  },
  {
   "cell_type": "code",
   "execution_count": 56,
   "metadata": {},
   "outputs": [],
   "source": [
    "svd = TruncatedSVD(n_components=120)\n",
    "svd.fit(xtrain_stv)\n",
    "xtrain_svd = svd.transform(xtrain_stv)\n",
    "xvalid_svd = svd.transform(xvalid_stv)\n",
    "\n",
    "scl = preprocessing.StandardScaler()\n",
    "scl.fit(xtrain_svd)\n",
    "xtrain_svd_scl_stv = scl.transform(xtrain_svd)\n",
    "xvalid_svd_scl_stv = scl.transform(xvalid_svd)"
   ]
  },
  {
   "cell_type": "code",
   "execution_count": 57,
   "metadata": {},
   "outputs": [
    {
     "name": "stdout",
     "output_type": "stream",
     "text": [
      "ROC: 0.8202777777777778\n",
      "Accuracy: 0.9020172910662824\n",
      "Precision: 0.8984486238439988\n",
      "Recall: 0.9020172910662824\n",
      "F-Score: 0.8986096103123598\n"
     ]
    }
   ],
   "source": [
    "clf = SVC(C=1.0)\n",
    "clf.fit(xtrain_svd_scl_stv, y_train)\n",
    "predictions = clf.predict(xvalid_svd_scl_stv)\n",
    "\n",
    "rate_model(predictions)"
   ]
  },
  {
   "cell_type": "markdown",
   "metadata": {},
   "source": [
    "### E. Random Forest"
   ]
  },
  {
   "cell_type": "code",
   "execution_count": 58,
   "metadata": {},
   "outputs": [
    {
     "name": "stdout",
     "output_type": "stream",
     "text": [
      "ROC: 0.5347222222222222\n",
      "Accuracy: 0.8069164265129684\n",
      "Precision: 0.8447427406171528\n",
      "Recall: 0.8069164265129684\n",
      "F-Score: 0.7333960020801155\n"
     ]
    }
   ],
   "source": [
    "from sklearn.ensemble import RandomForestClassifier\n",
    "\n",
    "clf = RandomForestClassifier(n_estimators = 100,\n",
    "                             random_state=0,\n",
    "                             n_jobs=-1)\n",
    "clf.fit(xtrain_ctv, y_train)\n",
    "predictions = clf.predict(xvalid_ctv)\n",
    "\n",
    "rate_model(predictions)"
   ]
  },
  {
   "cell_type": "code",
   "execution_count": 59,
   "metadata": {},
   "outputs": [
    {
     "name": "stdout",
     "output_type": "stream",
     "text": [
      "ROC: 0.8130050505050505\n",
      "Accuracy: 0.8904899135446686\n",
      "Precision: 0.8869601633384588\n",
      "Recall: 0.8904899135446686\n",
      "F-Score: 0.888054047189822\n"
     ]
    }
   ],
   "source": [
    "clf.fit(xtrain_stv, y_train)\n",
    "predictions = clf.predict(xvalid_stv)\n",
    "\n",
    "rate_model(predictions)"
   ]
  },
  {
   "cell_type": "code",
   "execution_count": 60,
   "metadata": {},
   "outputs": [
    {
     "name": "stdout",
     "output_type": "stream",
     "text": [
      "ROC: 0.6762626262626262\n",
      "Accuracy: 0.8443804034582133\n",
      "Precision: 0.8325477104529321\n",
      "Recall: 0.8443804034582133\n",
      "F-Score: 0.824860124676555\n"
     ]
    }
   ],
   "source": [
    "clf.fit(xtrain_svd_scl_ctv, y_train)\n",
    "predictions = clf.predict(xvalid_svd_scl_ctv)\n",
    "\n",
    "rate_model(predictions)"
   ]
  },
  {
   "cell_type": "code",
   "execution_count": 61,
   "metadata": {},
   "outputs": [
    {
     "name": "stdout",
     "output_type": "stream",
     "text": [
      "ROC: 0.6765909090909091\n",
      "Accuracy: 0.8530259365994236\n",
      "Precision: 0.8486981639297211\n",
      "Recall: 0.8530259365994236\n",
      "F-Score: 0.8305966179742374\n"
     ]
    }
   ],
   "source": [
    "clf.fit(xtrain_svd_scl_stv, y_train)\n",
    "predictions = clf.predict(xvalid_svd_scl_stv)\n",
    "\n",
    "rate_model(predictions)"
   ]
  },
  {
   "cell_type": "markdown",
   "metadata": {},
   "source": [
    "### F. XGBoost"
   ]
  },
  {
   "cell_type": "code",
   "execution_count": 62,
   "metadata": {},
   "outputs": [
    {
     "name": "stdout",
     "output_type": "stream",
     "text": [
      "ROC: 0.7782828282828284\n",
      "Accuracy: 0.8760806916426513\n",
      "Precision: 0.8701982828332165\n",
      "Recall: 0.8760806916426513\n",
      "F-Score: 0.871362708403089\n"
     ]
    }
   ],
   "source": [
    "import xgboost as xgb\n",
    "\n",
    "clf = xgb.XGBClassifier(max_depth=7,\n",
    "                        n_estimators=200,\n",
    "                        colsample_bytree=0.8,\n",
    "                        subsample=0.8,\n",
    "                        nthread=-1,\n",
    "                        learning_rate=0.1)\n",
    "\n",
    "clf.fit(xtrain_ctv, y_train)\n",
    "predictions = clf.predict(xvalid_ctv)\n",
    "\n",
    "rate_model(predictions)"
   ]
  },
  {
   "cell_type": "code",
   "execution_count": 63,
   "metadata": {},
   "outputs": [
    {
     "name": "stdout",
     "output_type": "stream",
     "text": [
      "ROC: 0.8356565656565658\n",
      "Accuracy: 0.9020172910662824\n",
      "Precision: 0.8995801700017808\n",
      "Recall: 0.9020172910662824\n",
      "F-Score: 0.9004159158577161\n"
     ]
    }
   ],
   "source": [
    "clf.fit(xtrain_stv, y_train)\n",
    "predictions = clf.predict(xvalid_stv)\n",
    "\n",
    "rate_model(predictions)"
   ]
  },
  {
   "cell_type": "code",
   "execution_count": 64,
   "metadata": {},
   "outputs": [
    {
     "name": "stdout",
     "output_type": "stream",
     "text": [
      "ROC: 0.7903535353535353\n",
      "Accuracy: 0.8789625360230547\n",
      "Precision: 0.8741545692808764\n",
      "Recall: 0.8789625360230547\n",
      "F-Score: 0.8755269043829841\n"
     ]
    }
   ],
   "source": [
    "clf.fit(xtrain_svd_scl_ctv, y_train)\n",
    "predictions = clf.predict(xvalid_svd_scl_ctv)\n",
    "\n",
    "rate_model(predictions)"
   ]
  },
  {
   "cell_type": "code",
   "execution_count": 65,
   "metadata": {},
   "outputs": [
    {
     "name": "stdout",
     "output_type": "stream",
     "text": [
      "ROC: 0.8528535353535354\n",
      "Accuracy: 0.9048991354466859\n",
      "Precision: 0.904427210634647\n",
      "Recall: 0.9048991354466859\n",
      "F-Score: 0.904652913366439\n"
     ]
    }
   ],
   "source": [
    "clf.fit(xtrain_svd_scl_stv, y_train)\n",
    "predictions = clf.predict(xvalid_svd_scl_stv)\n",
    "\n",
    "rate_model(predictions)"
   ]
  },
  {
   "cell_type": "markdown",
   "metadata": {},
   "source": [
    "## 6. Hyper-Parameter Tuning"
   ]
  },
  {
   "cell_type": "markdown",
   "metadata": {},
   "source": [
    "Out of all the classical machine learning models using the default hyper-parameters, the Ranking goes like:-  \n",
    "1. XGBoost  \n",
    "2. Logistic Regression  \n",
    "3. SVM  \n",
    "4. KNN  \n",
    "5. Multinomial NB  \n",
    "6. Random Forest  \n",
    "  \n",
    "Let us do hyper-parameter tuning for the Top-3 methods and see how far can we go. We will use a conjunction of RandomizedsearchCV & GridsearchCV because of the ease of use and taking advantage of the parallel processing feature."
   ]
  },
  {
   "cell_type": "markdown",
   "metadata": {},
   "source": [
    "### 1.KNN"
   ]
  },
  {
   "cell_type": "code",
   "execution_count": 66,
   "metadata": {},
   "outputs": [],
   "source": [
    "from hyperopt import fmin, tpe, hp, anneal, Trials, STATUS_OK\n",
    "from sklearn.model_selection import KFold, cross_val_score\n",
    "\n",
    "random_state = 0\n",
    "n_iter = 200\n",
    "cross_val_kf = KFold(n_splits=3, shuffle=True, random_state=random_state)\n",
    "\n",
    "def hyperopt_train_test(params, cv=cross_val_kf, X=xtrain_stv, y=y_train):\n",
    "    clf = KNeighborsClassifier(**params)\n",
    "    return cross_val_score(clf, X, y, cv=cv, scoring='recall', n_jobs=-1).mean()\n",
    "\n",
    "def call_hyperopt(params):\n",
    "    acc = hyperopt_train_test(params)\n",
    "    return {'loss': -acc, 'status': STATUS_OK}\n",
    "\n",
    "space4lr = {'n_neighbors': hp.choice('n_neighbors', np.arange(1, 9, dtype=int)), \n",
    "            'p': hp.choice('p', [1, 2]),\n",
    "            'weights': hp.choice('weights', ['uniform', 'distance'])}\n",
    "\n",
    "trials = Trials()\n",
    "# best = fmin(fn = call_hyperopt, space = space4lr, algo = tpe.suggest, max_evals = n_iter, trials = trials)"
   ]
  },
  {
   "cell_type": "code",
   "execution_count": 67,
   "metadata": {},
   "outputs": [],
   "source": [
    "# print(best)"
   ]
  },
  {
   "cell_type": "markdown",
   "metadata": {},
   "source": [
    "**Output:-**  \n",
    "{'n_neighbors': 6, 'p': 0, 'weights': 1}"
   ]
  },
  {
   "cell_type": "code",
   "execution_count": 68,
   "metadata": {},
   "outputs": [
    {
     "name": "stdout",
     "output_type": "stream",
     "text": [
      "ROC: 0.8917171717171717\n",
      "Accuracy: 0.8933717579250721\n",
      "Precision: 0.9103370886857047\n",
      "Recall: 0.8933717579250721\n",
      "F-Score: 0.8980407519241598\n"
     ]
    }
   ],
   "source": [
    "clf = KNeighborsClassifier(n_neighbors = 6,\n",
    "                           p = 1,\n",
    "                           weights = 'distance')\n",
    "clf.fit(xtrain_stv, y_train)\n",
    "predictions = clf.predict(xvalid_stv)\n",
    "\n",
    "rate_model(predictions)"
   ]
  },
  {
   "cell_type": "markdown",
   "metadata": {},
   "source": [
    "**Output:-**  \n",
    "ROC: 0.8917171717171717  \n",
    "Accuracy: 0.8933717579250721  \n",
    "Precision: 0.9103370886857047  \n",
    "Recall: 0.8933717579250721  \n",
    "F-Score: 0.8980407519241598"
   ]
  },
  {
   "cell_type": "markdown",
   "metadata": {},
   "source": [
    "### 2. SVM"
   ]
  },
  {
   "cell_type": "code",
   "execution_count": 69,
   "metadata": {},
   "outputs": [],
   "source": [
    "n_iter = 200\n",
    "cross_val_kf = KFold(n_splits=3, shuffle=True, random_state=random_state)\n",
    "\n",
    "def hyperopt_train_test(params, cv=cross_val_kf, X=xtrain_svd_scl_ctv, y=y_train):\n",
    "    clf = SVC(**params)\n",
    "    return cross_val_score(clf, X, y, cv=cv, scoring='recall', n_jobs=-1).mean()\n",
    "\n",
    "def call_hyperopt(params):\n",
    "    acc = hyperopt_train_test(params)\n",
    "    return {'loss': -acc, 'status': STATUS_OK}\n",
    "\n",
    "space4svc = {'C': hp.uniform('C', 0.01, 100),\n",
    "             'gamma': hp.uniform('gamma', 0, 20),\n",
    "             'kernel': hp.choice('kernel', ['rbf', 'poly', 'sigmoid', 'linear']),\n",
    "             'degree': hp.choice('degree', np.arange(1, 9, dtype=int))}\n",
    "\n",
    "trials = Trials()\n",
    "# best = fmin(fn = call_hyperopt, space = space4svc, algo = tpe.suggest, max_evals = n_iter, trials = trials)"
   ]
  },
  {
   "cell_type": "code",
   "execution_count": 70,
   "metadata": {},
   "outputs": [],
   "source": [
    "# print(best)"
   ]
  },
  {
   "cell_type": "code",
   "execution_count": 71,
   "metadata": {},
   "outputs": [
    {
     "name": "stdout",
     "output_type": "stream",
     "text": [
      "ROC: 0.7984595959595959\n",
      "Accuracy: 0.8674351585014409\n",
      "Precision: 0.8674351585014409\n",
      "Recall: 0.8674351585014409\n",
      "F-Score: 0.8674351585014409\n"
     ]
    }
   ],
   "source": [
    "clf = SVC(C = 93.85137469727562,\n",
    "          degree = 2,\n",
    "          gamma = 4.431204779614404,\n",
    "          kernel = 'linear')\n",
    "\n",
    "clf.fit(xtrain_svd_scl_ctv, y_train)\n",
    "predictions = clf.predict(xvalid_svd_scl_ctv)\n",
    "\n",
    "rate_model(predictions)"
   ]
  },
  {
   "cell_type": "markdown",
   "metadata": {},
   "source": [
    "**Output:-**  \n",
    "ROC: 0.8331818181818182  \n",
    "Accuracy: 0.8818443804034583  \n",
    "Precision: 0.8851878189053983  \n",
    "Recall: 0.8818443804034583  \n",
    "F-Score: 0.8832848589872965"
   ]
  },
  {
   "cell_type": "code",
   "execution_count": 72,
   "metadata": {},
   "outputs": [],
   "source": [
    "n_iter = 400\n",
    "cross_val_kf = KFold(n_splits=3, shuffle=True, random_state=random_state)\n",
    "\n",
    "def hyperopt_train_test(params, cv=cross_val_kf, X=xtrain_svd_scl_stv, y=y_train):\n",
    "    clf = SVC(**params)\n",
    "    return cross_val_score(clf, X, y, cv=cv, scoring='recall', n_jobs=-1).mean()\n",
    "\n",
    "def call_hyperopt(params):\n",
    "    acc = hyperopt_train_test(params)\n",
    "    return {'loss': -acc, 'status': STATUS_OK}\n",
    "\n",
    "space4svc = {'C': hp.uniform('C', 0.01, 100),\n",
    "             'gamma': hp.uniform('gamma', 0, 20),\n",
    "             'kernel': hp.choice('kernel', ['rbf', 'poly', 'sigmoid', 'linear']),\n",
    "             'degree': hp.choice('degree', np.arange(1, 9, dtype=int))}\n",
    "\n",
    "trials = Trials()\n",
    "# best = fmin(fn = call_hyperopt, space = space4svc, algo = tpe.suggest, max_evals = n_iter, trials = trials)"
   ]
  },
  {
   "cell_type": "code",
   "execution_count": 73,
   "metadata": {},
   "outputs": [],
   "source": [
    "# print(best)"
   ]
  },
  {
   "cell_type": "code",
   "execution_count": 74,
   "metadata": {},
   "outputs": [
    {
     "name": "stdout",
     "output_type": "stream",
     "text": [
      "ROC: 0.8452525252525251\n",
      "Accuracy: 0.8847262247838616\n",
      "Precision: 0.8902610929421795\n",
      "Recall: 0.8847262247838616\n",
      "F-Score: 0.8869090162159016\n"
     ]
    }
   ],
   "source": [
    "clf = SVC(C = 0.15675181364374047,\n",
    "          degree = 4,\n",
    "          gamma = 16.729659075292133,\n",
    "          kernel = 'linear')\n",
    "\n",
    "clf.fit(xtrain_svd_scl_stv, y_train)\n",
    "predictions = clf.predict(xvalid_svd_scl_stv)\n",
    "\n",
    "rate_model(predictions)"
   ]
  },
  {
   "cell_type": "markdown",
   "metadata": {},
   "source": [
    "**Output:-**  \n",
    "ROC: 0.7776262626262626  \n",
    "Accuracy: 0.8587896253602305  \n",
    "Precision: 0.8567163560218108  \n",
    "Recall: 0.8587896253602305  \n",
    "F-Score: 0.857670417281442"
   ]
  },
  {
   "cell_type": "markdown",
   "metadata": {},
   "source": [
    "### 3. XGBoost"
   ]
  },
  {
   "cell_type": "code",
   "execution_count": 75,
   "metadata": {},
   "outputs": [],
   "source": [
    "n_iter = 200\n",
    "cross_val_kf = KFold(n_splits=3, shuffle=True, random_state=random_state)\n",
    "\n",
    "def hyperopt_train_test(params, cv=cross_val_kf, X=xtrain_stv, y=y_train):\n",
    "    clf = xgb.XGBClassifier(max_depth = params['max_depth'],\n",
    "                            n_estimators = params['n_estimators'],\n",
    "                            learning_rate = params['learning_rate'],\n",
    "                            colsample_bytree = params['colsample_bytree'],\n",
    "                            subsample = params['subsample'],\n",
    "                            nthread = -1)\n",
    "    return cross_val_score(clf, X, y, cv=cv, scoring='recall', n_jobs=-1).mean()\n",
    "\n",
    "def call_hyperopt(params):\n",
    "    acc = hyperopt_train_test(params)\n",
    "    return {'loss': -acc, 'status': STATUS_OK}\n",
    "\n",
    "space4xgb = {'max_depth': hp.choice('max_depth', np.arange(1, 15, dtype=int)),\n",
    "             'n_estimators': hp.choice('n_estimators', np.arange(2, 500, dtype=int)),\n",
    "             'colsample_bytree': hp.uniform('colsample_bytree', 0.1, 0.99),\n",
    "             'subsample': hp.uniform('subsample', 0.1, 0.99),\n",
    "             'learning_rate': hp.uniform('learning_rate', 0.001, 2)}\n",
    "\n",
    "trials = Trials()\n",
    "# best = fmin(fn = call_hyperopt, space = space4xgb, algo = tpe.suggest, max_evals = n_iter, trials = trials)"
   ]
  },
  {
   "cell_type": "code",
   "execution_count": 76,
   "metadata": {},
   "outputs": [],
   "source": [
    "# print(best)"
   ]
  },
  {
   "cell_type": "code",
   "execution_count": 77,
   "metadata": {},
   "outputs": [
    {
     "name": "stdout",
     "output_type": "stream",
     "text": [
      "ROC: 0.821439393939394\n",
      "Accuracy: 0.8876080691642652\n",
      "Precision: 0.8860057925342473\n",
      "Recall: 0.8876080691642652\n",
      "F-Score: 0.8867172708974743\n"
     ]
    }
   ],
   "source": [
    "clf = xgb.XGBClassifier(max_depth = 4,\n",
    "                        n_estimators = 275,\n",
    "                        learning_rate = 0.9764553658052625,\n",
    "                        colsample_bytree = 0.14113098403598756,\n",
    "                        subsample = 0.985117567309606,\n",
    "                        nthread = -1)\n",
    "\n",
    "clf.fit(xtrain_stv, y_train)\n",
    "predictions = clf.predict(xvalid_stv)\n",
    "\n",
    "rate_model(predictions)"
   ]
  },
  {
   "cell_type": "code",
   "execution_count": 78,
   "metadata": {},
   "outputs": [],
   "source": [
    "n_iter = 100\n",
    "cross_val_kf = KFold(n_splits=3, shuffle=True, random_state=random_state)\n",
    "\n",
    "def hyperopt_train_test(params, cv=cross_val_kf, X=xtrain_svd_scl_stv, y=y_train):\n",
    "    clf = xgb.XGBClassifier(max_depth = params['max_depth'],\n",
    "                            n_estimators = params['n_estimators'],\n",
    "                            learning_rate = params['learning_rate'],\n",
    "                            colsample_bytree = params['colsample_bytree'],\n",
    "                            subsample = params['subsample'],\n",
    "                            nthread = -1)\n",
    "    return cross_val_score(clf, X, y, cv=cv, scoring='recall', n_jobs=-1).mean()\n",
    "\n",
    "def call_hyperopt(params):\n",
    "    acc = hyperopt_train_test(params)\n",
    "    return {'loss': -acc, 'status': STATUS_OK}\n",
    "\n",
    "space4xgb = {'max_depth': hp.choice('max_depth', np.arange(1, 15, dtype=int)),\n",
    "             'n_estimators': hp.choice('n_estimators', np.arange(2, 500, dtype=int)),\n",
    "             'colsample_bytree': hp.uniform('colsample_bytree', 0.1, 0.99),\n",
    "             'subsample': hp.uniform('subsample', 0.1, 0.99),\n",
    "             'learning_rate': hp.uniform('learning_rate', 0.001, 2)}\n",
    "\n",
    "trials = Trials()\n",
    "# best = fmin(fn = call_hyperopt, space = space4xgb, algo = tpe.suggest, max_evals = n_iter, trials = trials)"
   ]
  },
  {
   "cell_type": "code",
   "execution_count": 79,
   "metadata": {},
   "outputs": [],
   "source": [
    "# print(best)"
   ]
  },
  {
   "cell_type": "code",
   "execution_count": 80,
   "metadata": {},
   "outputs": [
    {
     "name": "stdout",
     "output_type": "stream",
     "text": [
      "ROC: 0.8649242424242424\n",
      "Accuracy: 0.9077809798270894\n",
      "Precision: 0.9087883842927071\n",
      "Recall: 0.9077809798270894\n",
      "F-Score: 0.9082443340680342\n"
     ]
    }
   ],
   "source": [
    "clf = xgb.XGBClassifier(max_depth = 3,\n",
    "                        n_estimators = 74,\n",
    "                        learning_rate = 0.16607167388934393,\n",
    "                        colsample_bytree = 0.6239160320889967,\n",
    "                        subsample = 0.8926049223466814,\n",
    "                        nthread = -1)\n",
    "\n",
    "clf.fit(xtrain_svd_scl_stv, y_train)\n",
    "predictions = clf.predict(xvalid_svd_scl_stv)\n",
    "\n",
    "rate_model(predictions)"
   ]
  },
  {
   "cell_type": "markdown",
   "metadata": {},
   "source": [
    "## 7. Deep Learning  \n",
    "Although we are doing good with the classical machine learning methods; let's see if we can do better by using RNNs."
   ]
  },
  {
   "cell_type": "code",
   "execution_count": 81,
   "metadata": {},
   "outputs": [
    {
     "name": "stderr",
     "output_type": "stream",
     "text": [
      "Using TensorFlow backend.\n"
     ]
    }
   ],
   "source": [
    "import tensorflow as tf\n",
    "from tensorflow.keras.models import Sequential\n",
    "from tensorflow.keras.layers import Dense, Dropout, Activation, Embedding, LSTM, BatchNormalization, Flatten, Bidirectional\n",
    "from tensorflow.keras.callbacks import TensorBoard, EarlyStopping\n",
    "from tensorflow.keras.optimizers import Adam\n",
    "from tensorflow.keras.preprocessing.text import Tokenizer\n",
    "from tensorflow.keras.preprocessing.sequence import pad_sequences\n",
    "import time\n",
    "from keras_tqdm import TQDMNotebookCallback"
   ]
  },
  {
   "cell_type": "code",
   "execution_count": 82,
   "metadata": {},
   "outputs": [
    {
     "name": "stdout",
     "output_type": "stream",
     "text": [
      "2.0.0\n"
     ]
    }
   ],
   "source": [
    "print(tf.__version__)"
   ]
  },
  {
   "cell_type": "code",
   "execution_count": 83,
   "metadata": {},
   "outputs": [],
   "source": [
    "X_train, X_valid, y_train, y_valid = train_test_split(training_data.drop('Patient_Tag', axis=1), training_data['Patient_Tag'],\n",
    "                                                      test_size=0.3, random_state=0, stratify=training_data['Patient_Tag'],\n",
    "                                                      shuffle=True)"
   ]
  },
  {
   "cell_type": "code",
   "execution_count": 84,
   "metadata": {},
   "outputs": [],
   "source": [
    "X_test = test_data"
   ]
  },
  {
   "cell_type": "code",
   "execution_count": 85,
   "metadata": {},
   "outputs": [],
   "source": [
    "X_train['Combined_CONV_text'] = X_train['Combined_CONV_text'].apply(lambda x: prepare_text(x))\n",
    "X_valid['Combined_CONV_text'] = X_valid['Combined_CONV_text'].apply(lambda x: prepare_text(x))\n",
    "X_test['Combined_CONV_text'] = X_test['Combined_CONV_text'].apply(lambda x: prepare_text(x))"
   ]
  },
  {
   "cell_type": "code",
   "execution_count": 86,
   "metadata": {},
   "outputs": [],
   "source": [
    "# X_train['Combined_CONV_text'] = X_train['Combined_CONV_text'].apply(lambda x: remove_stop_words(x))\n",
    "# X_valid['Combined_CONV_text'] = X_valid['Combined_CONV_text'].apply(lambda x: remove_stop_words(x))\n",
    "# X_test['Combined_CONV_text'] = X_test['Combined_CONV_text'].apply(lambda x: remove_stop_words(x))"
   ]
  },
  {
   "cell_type": "code",
   "execution_count": 87,
   "metadata": {},
   "outputs": [],
   "source": [
    "X_train['Combined_CONV_text'] = X_train['Combined_CONV_text'].apply(lambda x: lemmatizer(x))\n",
    "X_valid['Combined_CONV_text'] = X_valid['Combined_CONV_text'].apply(lambda x: lemmatizer(x))\n",
    "X_test['Combined_CONV_text'] = X_test['Combined_CONV_text'].apply(lambda x: lemmatizer(x))"
   ]
  },
  {
   "cell_type": "code",
   "execution_count": 88,
   "metadata": {},
   "outputs": [],
   "source": [
    "X_train = X_train['Combined_CONV_text'].values\n",
    "X_valid = X_valid['Combined_CONV_text'].values\n",
    "X_test = X_test['Combined_CONV_text'].values\n",
    "\n",
    "y_train = y_train.values\n",
    "y_valid = y_valid.values"
   ]
  },
  {
   "cell_type": "code",
   "execution_count": 89,
   "metadata": {},
   "outputs": [],
   "source": [
    "embed_size = 300\n",
    "max_features = 17600\n",
    "maxlen = 100"
   ]
  },
  {
   "cell_type": "code",
   "execution_count": 90,
   "metadata": {},
   "outputs": [],
   "source": [
    "tokenizer = Tokenizer(oov_token = '<OOV>', num_words = max_features)\n",
    "tokenizer.fit_on_texts(list(X_train))\n",
    "\n",
    "X_train = tokenizer.texts_to_sequences(X_train)\n",
    "X_valid = tokenizer.texts_to_sequences(X_valid)\n",
    "X_test = tokenizer.texts_to_sequences(X_test)"
   ]
  },
  {
   "cell_type": "code",
   "execution_count": 91,
   "metadata": {},
   "outputs": [],
   "source": [
    "X_train = pad_sequences(X_train, maxlen=maxlen, padding='post')\n",
    "X_valid = pad_sequences(X_valid, maxlen=maxlen, padding='post')\n",
    "X_test = pad_sequences(X_test, maxlen=maxlen, padding='post')"
   ]
  },
  {
   "cell_type": "code",
   "execution_count": 92,
   "metadata": {},
   "outputs": [],
   "source": [
    "NUM_EPOCHS = 30\n",
    "BATCH_SIZE = 16\n",
    "lr = 0.006"
   ]
  },
  {
   "cell_type": "code",
   "execution_count": 93,
   "metadata": {},
   "outputs": [
    {
     "name": "stdout",
     "output_type": "stream",
     "text": [
      "Model: \"sequential\"\n",
      "_________________________________________________________________\n",
      "Layer (type)                 Output Shape              Param #   \n",
      "=================================================================\n",
      "embedding (Embedding)        (None, 100, 300)          5280000   \n",
      "_________________________________________________________________\n",
      "bidirectional (Bidirectional (None, 128)               186880    \n",
      "_________________________________________________________________\n",
      "dense (Dense)                (None, 32)                4128      \n",
      "_________________________________________________________________\n",
      "dense_1 (Dense)              (None, 1)                 33        \n",
      "=================================================================\n",
      "Total params: 5,471,041\n",
      "Trainable params: 5,471,041\n",
      "Non-trainable params: 0\n",
      "_________________________________________________________________\n"
     ]
    }
   ],
   "source": [
    "model1 = Sequential()\n",
    "model1.add(Embedding(max_features, embed_size, input_length=maxlen))\n",
    "# model1.add(Bidirectional(LSTM(32, return_sequences=True)))\n",
    "model1.add(Bidirectional(LSTM(64)))\n",
    "model1.add(Dense(32, activation='relu'))\n",
    "model1.add(Dense(1, activation='sigmoid'))\n",
    "\n",
    "model1.summary()"
   ]
  },
  {
   "cell_type": "code",
   "execution_count": 94,
   "metadata": {},
   "outputs": [],
   "source": [
    "model1.compile(loss = 'binary_crossentropy',\n",
    "               optimizer = Adam(lr=lr),\n",
    "               metrics = ['Recall'])"
   ]
  },
  {
   "cell_type": "code",
   "execution_count": 95,
   "metadata": {},
   "outputs": [],
   "source": [
    "NAME = f'LSTM_Clf_{embed_size}_Embeddings_{max_features}_Features_{maxlen}_Maxlen_{BATCH_SIZE}_Batch_Size{int(time.time())}'\n",
    "tensorboard = TensorBoard(log_dir= 'logs\\{}'.format(NAME))\n",
    "earlystop_callback = EarlyStopping(monitor='val_Recall',\n",
    "                                   min_delta=0.0001,\n",
    "                                   patience=3)\n",
    "\n",
    "callbacks_list = [tensorboard, earlystop_callback, TQDMNotebookCallback()]\n",
    "# callbacks_list = [tensorboard, TQDMNotebookCallback()]"
   ]
  },
  {
   "cell_type": "code",
   "execution_count": 96,
   "metadata": {},
   "outputs": [
    {
     "data": {
      "application/vnd.jupyter.widget-view+json": {
       "model_id": "7ec192d5733e4778b7c42bf31b3e8f9f",
       "version_major": 2,
       "version_minor": 0
      },
      "text/plain": [
       "HBox(children=(FloatProgress(value=0.0, description='Training', max=30.0, style=ProgressStyle(description_widt…"
      ]
     },
     "metadata": {},
     "output_type": "display_data"
    },
    {
     "data": {
      "application/vnd.jupyter.widget-view+json": {
       "model_id": "",
       "version_major": 2,
       "version_minor": 0
      },
      "text/plain": [
       "HBox(children=(FloatProgress(value=0.0, description='Epoch 0', max=809.0, style=ProgressStyle(description_widt…"
      ]
     },
     "metadata": {},
     "output_type": "display_data"
    },
    {
     "name": "stdout",
     "output_type": "stream",
     "text": [
      "WARNING:tensorflow:Method (on_train_batch_end) is slow compared to the batch update (0.312725). Check your callbacks.\n"
     ]
    },
    {
     "data": {
      "application/vnd.jupyter.widget-view+json": {
       "model_id": "",
       "version_major": 2,
       "version_minor": 0
      },
      "text/plain": [
       "HBox(children=(FloatProgress(value=0.0, description='Epoch 1', max=809.0, style=ProgressStyle(description_widt…"
      ]
     },
     "metadata": {},
     "output_type": "display_data"
    },
    {
     "data": {
      "application/vnd.jupyter.widget-view+json": {
       "model_id": "",
       "version_major": 2,
       "version_minor": 0
      },
      "text/plain": [
       "HBox(children=(FloatProgress(value=0.0, description='Epoch 2', max=809.0, style=ProgressStyle(description_widt…"
      ]
     },
     "metadata": {},
     "output_type": "display_data"
    },
    {
     "data": {
      "application/vnd.jupyter.widget-view+json": {
       "model_id": "",
       "version_major": 2,
       "version_minor": 0
      },
      "text/plain": [
       "HBox(children=(FloatProgress(value=0.0, description='Epoch 3', max=809.0, style=ProgressStyle(description_widt…"
      ]
     },
     "metadata": {},
     "output_type": "display_data"
    },
    {
     "data": {
      "application/vnd.jupyter.widget-view+json": {
       "model_id": "",
       "version_major": 2,
       "version_minor": 0
      },
      "text/plain": [
       "HBox(children=(FloatProgress(value=0.0, description='Epoch 4', max=809.0, style=ProgressStyle(description_widt…"
      ]
     },
     "metadata": {},
     "output_type": "display_data"
    },
    {
     "data": {
      "application/vnd.jupyter.widget-view+json": {
       "model_id": "",
       "version_major": 2,
       "version_minor": 0
      },
      "text/plain": [
       "HBox(children=(FloatProgress(value=0.0, description='Epoch 5', max=809.0, style=ProgressStyle(description_widt…"
      ]
     },
     "metadata": {},
     "output_type": "display_data"
    },
    {
     "data": {
      "application/vnd.jupyter.widget-view+json": {
       "model_id": "",
       "version_major": 2,
       "version_minor": 0
      },
      "text/plain": [
       "HBox(children=(FloatProgress(value=0.0, description='Epoch 6', max=809.0, style=ProgressStyle(description_widt…"
      ]
     },
     "metadata": {},
     "output_type": "display_data"
    },
    {
     "data": {
      "application/vnd.jupyter.widget-view+json": {
       "model_id": "",
       "version_major": 2,
       "version_minor": 0
      },
      "text/plain": [
       "HBox(children=(FloatProgress(value=0.0, description='Epoch 7', max=809.0, style=ProgressStyle(description_widt…"
      ]
     },
     "metadata": {},
     "output_type": "display_data"
    },
    {
     "data": {
      "application/vnd.jupyter.widget-view+json": {
       "model_id": "",
       "version_major": 2,
       "version_minor": 0
      },
      "text/plain": [
       "HBox(children=(FloatProgress(value=0.0, description='Epoch 8', max=809.0, style=ProgressStyle(description_widt…"
      ]
     },
     "metadata": {},
     "output_type": "display_data"
    },
    {
     "data": {
      "application/vnd.jupyter.widget-view+json": {
       "model_id": "",
       "version_major": 2,
       "version_minor": 0
      },
      "text/plain": [
       "HBox(children=(FloatProgress(value=0.0, description='Epoch 9', max=809.0, style=ProgressStyle(description_widt…"
      ]
     },
     "metadata": {},
     "output_type": "display_data"
    },
    {
     "name": "stdout",
     "output_type": "stream",
     "text": [
      "\n"
     ]
    }
   ],
   "source": [
    "history = model1.fit(X_train, y_train,\n",
    "                     epochs=NUM_EPOCHS,\n",
    "                     validation_data=(X_valid, y_valid),\n",
    "                     batch_size=BATCH_SIZE,\n",
    "                     callbacks=callbacks_list,\n",
    "                     verbose=0)"
   ]
  },
  {
   "cell_type": "code",
   "execution_count": 97,
   "metadata": {},
   "outputs": [
    {
     "name": "stdout",
     "output_type": "stream",
     "text": [
      "ROC: 0.7523232323232323\n",
      "Accuracy: 0.8674351585014409\n",
      "Precision: 0.8596518836902034\n",
      "Recall: 0.8674351585014409\n",
      "F-Score: 0.8600667405006407\n"
     ]
    }
   ],
   "source": [
    "probas = model1.predict(X_valid)\n",
    "labels = (probas > 0.4).astype(np.int)\n",
    "rate_model(labels)"
   ]
  },
  {
   "cell_type": "code",
   "execution_count": 98,
   "metadata": {},
   "outputs": [],
   "source": [
    "# NUM_EPOCHS = 50\n",
    "# possible_batch_size = np.linspace(5, 50, 5).astype(int)\n",
    "# possible_lr = np.logspace(-3, -1, 8)"
   ]
  },
  {
   "cell_type": "code",
   "execution_count": 99,
   "metadata": {},
   "outputs": [],
   "source": [
    "# earlystop_callback = EarlyStopping(monitor='val_Recall',\n",
    "#                                    min_delta=0.0001,\n",
    "#                                    patience=5)\n",
    "\n",
    "# for BATCH_SIZE in possible_batch_size:\n",
    "#     for lr in possible_lr:\n",
    "#         model1 = Sequential()\n",
    "#         model1.add(Embedding(max_features, embed_size, input_length=maxlen))\n",
    "#         model1.add(Bidirectional(LSTM(64)))\n",
    "#         model1.add(Dense(32, activation='relu'))\n",
    "#         model1.add(Dense(1, activation='sigmoid'))\n",
    "\n",
    "#         model1.compile(loss = 'binary_crossentropy',\n",
    "#                        optimizer = Adam(lr=lr),\n",
    "#                        metrics = ['Recall'])\n",
    "        \n",
    "#         NAME = f'LSTM_Clf_{BATCH_SIZE}_Batch_Size_{int(lr*1000)}_lr_{int(time.time())}'\n",
    "#         tensorboard = TensorBoard(log_dir= 'logs\\{}'.format(NAME))\n",
    "\n",
    "#         callbacks_list = [tensorboard, earlystop_callback, TQDMNotebookCallback()]\n",
    "        \n",
    "#         history = model1.fit(X_train, y_train,\n",
    "#                              epochs=NUM_EPOCHS,\n",
    "#                              validation_data=(X_valid, y_valid),\n",
    "#                              batch_size=BATCH_SIZE,\n",
    "#                              callbacks=callbacks_list,\n",
    "#                              verbose=0)"
   ]
  },
  {
   "cell_type": "code",
   "execution_count": 100,
   "metadata": {},
   "outputs": [],
   "source": [
    "# import io\n",
    "\n",
    "# e = model1.layers[0]\n",
    "# weights = e.get_weights()[0]\n",
    "\n",
    "# word_index = tokenizer.word_index\n",
    "# reverse_word_index = dict([(value, key) for (key, value) in word_index.items()])\n",
    "\n",
    "# out_v = io.open('vecs.tsv', 'w', encoding='utf-8')\n",
    "# out_m = io.open('mets.tsv', 'w', encoding='utf-8')\n",
    "\n",
    "# for word_num in range(1, len(word_index)):\n",
    "#     word = reverse_word_index[word_num]\n",
    "#     embeddings = weights[word_num]\n",
    "#     out_m.write(word + '\\n')\n",
    "#     out_v.write('\\t'.join([str(x) for x in embeddings]) + '\\n')\n",
    "# out_m.close()\n",
    "# out_v.close()"
   ]
  },
  {
   "cell_type": "markdown",
   "metadata": {},
   "source": [
    "## 8. Transfer Learning  \n",
    "Spacy also has a transfer learning model; which we can use for our classification task. Let's see how that performs as well."
   ]
  },
  {
   "cell_type": "code",
   "execution_count": 101,
   "metadata": {},
   "outputs": [],
   "source": [
    "X_train, X_valid, y_train, y_valid = train_test_split(training_data.drop('Patient_Tag', axis=1), training_data['Patient_Tag'],\n",
    "                                                      test_size=0.3, random_state=0, stratify=training_data['Patient_Tag'],\n",
    "                                                      shuffle=True)\n",
    "X_test = test_data\n",
    "\n",
    "X_train['Combined_CONV_text'] = X_train['Combined_CONV_text'].apply(lambda x: prepare_text(x))\n",
    "X_valid['Combined_CONV_text'] = X_valid['Combined_CONV_text'].apply(lambda x: prepare_text(x))\n",
    "X_test['Combined_CONV_text'] = X_test['Combined_CONV_text'].apply(lambda x: prepare_text(x))\n",
    "\n",
    "# X_train['Combined_CONV_text'] = X_train['Combined_CONV_text'].apply(lambda x: remove_stop_words(x))\n",
    "# X_valid['Combined_CONV_text'] = X_valid['Combined_CONV_text'].apply(lambda x: remove_stop_words(x))\n",
    "# X_test['Combined_CONV_text'] = X_test['Combined_CONV_text'].apply(lambda x: remove_stop_words(x))\n",
    "\n",
    "X_train['Combined_CONV_text'] = X_train['Combined_CONV_text'].apply(lambda x: lemmatizer(x))\n",
    "X_valid['Combined_CONV_text'] = X_valid['Combined_CONV_text'].apply(lambda x: lemmatizer(x))\n",
    "X_test['Combined_CONV_text'] = X_test['Combined_CONV_text'].apply(lambda x: lemmatizer(x))"
   ]
  },
  {
   "cell_type": "code",
   "execution_count": 102,
   "metadata": {},
   "outputs": [],
   "source": [
    "X_train['Spacy_tuples'] = tuple(zip(X_train['Combined_CONV_text'], y_train))\n",
    "train = X_train['Spacy_tuples'].tolist()\n",
    "\n",
    "X_valid['Spacy_tuples'] = tuple(zip(X_valid['Combined_CONV_text'], y_valid))\n",
    "valid = X_valid['Spacy_tuples'].tolist()"
   ]
  },
  {
   "cell_type": "code",
   "execution_count": 103,
   "metadata": {},
   "outputs": [],
   "source": [
    "import spacy\n",
    "import random\n",
    "n_iter = 10\n",
    "\n",
    "nlp = spacy.load('en_core_web_md')\n",
    "random_seed = 15"
   ]
  },
  {
   "cell_type": "code",
   "execution_count": 104,
   "metadata": {},
   "outputs": [],
   "source": [
    "def load_data(train=train, random_seed=random_seed):\n",
    "    # Partition off part of the train data for evaluation\n",
    "    train_data = train\n",
    "    random.seed(random_seed)\n",
    "    random.shuffle(train_data)\n",
    "    texts, labels = zip(*train_data)\n",
    "    cats = [{'PATIENT': bool(y), 'NOT_PATIENT': not bool(y)} for y in labels]\n",
    "    return (texts, cats)"
   ]
  },
  {
   "cell_type": "code",
   "execution_count": 105,
   "metadata": {},
   "outputs": [],
   "source": [
    "if 'textcat' not in nlp.pipe_names:\n",
    "    textcat = nlp.create_pipe('textcat', config={'exclusive_classes': True,\n",
    "                                                 'architecture': 'simple_cnn'})\n",
    "    nlp.add_pipe(textcat, last=True)\n",
    "# otherwise, get it, so we can add labels to it\n",
    "else:\n",
    "    textcat = nlp.get_pipe('textcat')\n",
    "    \n",
    "textcat.add_label('PATIENT')\n",
    "textcat.add_label('NOT_PATIENT')\n",
    "\n",
    "(train_texts, train_cats) = load_data()\n",
    "train_data = list(zip(train_texts, [{'cats': cats} for cats in train_cats]))"
   ]
  },
  {
   "cell_type": "code",
   "execution_count": 106,
   "metadata": {},
   "outputs": [
    {
     "name": "stdout",
     "output_type": "stream",
     "text": [
      "Training the model...\n",
      "LOSS \n",
      "0.031\n",
      "0.021\n",
      "0.016\n",
      "0.013\n",
      "0.007\n",
      "0.005\n",
      "0.006\n",
      "0.005\n",
      "0.004\n",
      "0.004\n"
     ]
    }
   ],
   "source": [
    "from spacy.util import minibatch, compounding\n",
    "\n",
    "pipe_exceptions = [\"textcat\", \"trf_wordpiecer\", \"trf_tok2vec\"]\n",
    "other_pipes = [pipe for pipe in nlp.pipe_names if pipe not in pipe_exceptions]\n",
    "\n",
    "with nlp.disable_pipes(*other_pipes):  # only train textcat\n",
    "    optimizer = nlp.begin_training()\n",
    "    \n",
    "    print(\"Training the model...\")\n",
    "    print(\"{:^5}\".format(\"LOSS\"))\n",
    "    batch_sizes = 20\n",
    "    \n",
    "    for i in range(n_iter):\n",
    "        losses = {}\n",
    "        batches = minibatch(train_data, size=batch_sizes)\n",
    "        for batch in batches:\n",
    "            texts, annotations = zip(*batch)\n",
    "            nlp.update(texts, annotations, sgd=optimizer, drop=0.3, losses=losses)\n",
    "        #with textcat.model.use_params(optimizer.averages):\n",
    "            #evaluate on the dev data split off in load_data()\n",
    "            #scores = evaluate(nlp.tokenizer, textcat, dev_texts, dev_cats)\n",
    "        print(\"{0:.3f}\".format(losses[\"textcat\"]))"
   ]
  },
  {
   "cell_type": "code",
   "execution_count": 107,
   "metadata": {},
   "outputs": [],
   "source": [
    "def predict_tag(text, nlp=nlp, threshold=0.5):\n",
    "    doc = nlp(text)\n",
    "    percent = round(doc.cats['PATIENT'], 2)\n",
    "    \n",
    "    if percent>threshold:\n",
    "        return 1\n",
    "    else:\n",
    "        return 0"
   ]
  },
  {
   "cell_type": "code",
   "execution_count": 108,
   "metadata": {},
   "outputs": [],
   "source": [
    "preds = X_valid['Combined_CONV_text'].apply(lambda x: predict_tag(text=x, threshold=0.2))"
   ]
  },
  {
   "cell_type": "code",
   "execution_count": 109,
   "metadata": {},
   "outputs": [
    {
     "name": "stdout",
     "output_type": "stream",
     "text": [
      "ROC: 0.795479797979798\n",
      "Accuracy: 0.8789625360230547\n",
      "Precision: 0.8748752558527917\n",
      "Recall: 0.8789625360230547\n",
      "F-Score: 0.8762702626834874\n"
     ]
    }
   ],
   "source": [
    "rate_model(preds)"
   ]
  },
  {
   "cell_type": "markdown",
   "metadata": {},
   "source": [
    "### A. Threshold Tuning"
   ]
  },
  {
   "cell_type": "code",
   "execution_count": 110,
   "metadata": {},
   "outputs": [
    {
     "name": "stdout",
     "output_type": "stream",
     "text": [
      "Round: 0.0\n",
      "Round: 0.1\n",
      "Round: 0.2\n",
      "Round: 0.3\n",
      "Round: 0.4\n",
      "Round: 0.5\n",
      "Round: 0.6\n",
      "Round: 0.7\n",
      "Round: 0.8\n",
      "Round: 0.9\n",
      "Round: 1.0\n"
     ]
    },
    {
     "name": "stderr",
     "output_type": "stream",
     "text": [
      "C:\\Anaconda\\lib\\site-packages\\sklearn\\metrics\\_classification.py:1272: UndefinedMetricWarning: Precision and F-score are ill-defined and being set to 0.0 in labels with no predicted samples. Use `zero_division` parameter to control this behavior.\n",
      "  _warn_prf(average, modifier, msg_start, len(result))\n"
     ]
    }
   ],
   "source": [
    "threshold_list = [x for x in np.linspace(start = 0, stop = 1, num = 11)]\n",
    "roc_list = []\n",
    "accuracy_list = []\n",
    "precision_list = []\n",
    "recall_list = []\n",
    "f_score_list = []\n",
    "\n",
    "for thres in threshold_list:\n",
    "    print(f'Round: {round(thres, 1)}')\n",
    "    preds = X_valid['Combined_CONV_text'].apply(lambda x: predict_tag(text=x, threshold=thres))\n",
    "    roc_list.append(roc_auc_score(y_valid, preds))\n",
    "    accuracy_list.append(accuracy_score(y_valid, preds))\n",
    "    precision_recall_fscore = precision_recall_fscore_support(y_valid, preds, average='weighted')\n",
    "    precision_list.append(precision_recall_fscore[0])\n",
    "    recall_list.append(precision_recall_fscore[1])\n",
    "    f_score_list.append(precision_recall_fscore[2])"
   ]
  },
  {
   "cell_type": "code",
   "execution_count": 111,
   "metadata": {},
   "outputs": [],
   "source": [
    "plot_df = pd.DataFrame()\n",
    "plot_df['Thereshold'] = np.array(threshold_list)\n",
    "plot_df['ROC'] = np.array(roc_list)\n",
    "plot_df['Accuracy'] = np.array(accuracy_list)\n",
    "plot_df['Precision'] = np.array(precision_list)\n",
    "plot_df['Recall'] = np.array(recall_list)\n",
    "plot_df['F-Score'] = np.array(f_score_list)"
   ]
  },
  {
   "cell_type": "code",
   "execution_count": 112,
   "metadata": {},
   "outputs": [],
   "source": [
    "melt_df = plot_df.melt('Thereshold', var_name='Metrics',  value_name='Values')"
   ]
  },
  {
   "cell_type": "code",
   "execution_count": 113,
   "metadata": {},
   "outputs": [
    {
     "data": {
      "text/plain": [
       "<matplotlib.axes._subplots.AxesSubplot at 0x21356c39d88>"
      ]
     },
     "execution_count": 113,
     "metadata": {},
     "output_type": "execute_result"
    },
    {
     "data": {
      "image/png": "[encoded data removed]",
      "text/plain": [
       "<Figure size 720x576 with 1 Axes>"
      ]
     },
     "metadata": {},
     "output_type": "display_data"
    }
   ],
   "source": [
    "barplot_dim = (10, 8)\n",
    "ax = plt.subplots(figsize=barplot_dim)\n",
    "sns.lineplot(x='Thereshold', y='Values', hue='Metrics', data=melt_df)"
   ]
  },
  {
   "cell_type": "code",
   "execution_count": 114,
   "metadata": {},
   "outputs": [
    {
     "name": "stdout",
     "output_type": "stream",
     "text": [
      "Best Threshold: 0.30000000000000004\n",
      "ROC: 0.7921717171717172\n",
      "Accuracy: 0.8818443804034583\n",
      "Precision: 0.8769310719516228\n",
      "Recall: 0.8818443804034583\n",
      "F-Score: 0.8781166341859055\n"
     ]
    }
   ],
   "source": [
    "threshold = threshold_list[recall_list.index(max(recall_list))]\n",
    "\n",
    "X_valid['Preds'] = X_valid['Combined_CONV_text'].apply(lambda x: predict_tag(text=x, threshold=threshold))\n",
    "\n",
    "roc = roc_auc_score(y_valid, X_valid['Preds'])\n",
    "acc = accuracy_score(y_valid, X_valid['Preds'])\n",
    "precision_recall_fscore = precision_recall_fscore_support(y_valid, X_valid['Preds'], average='weighted')\n",
    "print(f'Best Threshold: {threshold}\\nROC: {roc}\\nAccuracy: {acc}\\nPrecision: {precision_recall_fscore[0]}\\n\\\n",
    "Recall: {precision_recall_fscore[1]}\\nF-Score: {precision_recall_fscore[2]}')"
   ]
  },
  {
   "cell_type": "markdown",
   "metadata": {},
   "source": [
    "So after a lot of tweaking around with the number of pochs and batch sizes this is the summary. I have also highlighted the best ones.\n",
    "\n",
    "![alt text](Iterations_and_Threshold_Tuning.jpg 'Iterations and_Threshold Tuning Summary')"
   ]
  },
  {
   "cell_type": "markdown",
   "metadata": {},
   "source": [
    "## 9. Full Training"
   ]
  },
  {
   "cell_type": "code",
   "execution_count": 115,
   "metadata": {},
   "outputs": [],
   "source": [
    "import spacy\n",
    "nlp = spacy.load('en_core_web_lg')\n",
    "n_iter = 7\n",
    "\n",
    "full_train_data = X_train.append(X_valid, sort=False)\n",
    "train_full = full_train_data['Spacy_tuples'].tolist()\n",
    "\n",
    "if 'textcat' not in nlp.pipe_names:\n",
    "    textcat = nlp.create_pipe('textcat', config={'exclusive_classes': True,\n",
    "                                                 'architecture': 'simple_cnn'})\n",
    "    nlp.add_pipe(textcat, last=True)\n",
    "else:\n",
    "    textcat = nlp.get_pipe('textcat')\n",
    "    \n",
    "textcat.add_label('PATIENT')\n",
    "textcat.add_label('NOT_PATIENT')\n",
    "\n",
    "(train_texts, train_cats) = load_data(train=train_full)\n",
    "train_data = list(zip(train_texts, [{'cats': cats} for cats in train_cats]))"
   ]
  },
  {
   "cell_type": "code",
   "execution_count": 116,
   "metadata": {},
   "outputs": [
    {
     "name": "stdout",
     "output_type": "stream",
     "text": [
      "Training the model...\n",
      "LOSS \n",
      "0.293\n",
      "0.201\n",
      "0.147\n",
      "0.105\n",
      "0.068\n",
      "0.030\n",
      "0.012\n"
     ]
    }
   ],
   "source": [
    "pipe_exceptions = [\"textcat\", \"trf_wordpiecer\", \"trf_tok2vec\"]\n",
    "other_pipes = [pipe for pipe in nlp.pipe_names if pipe not in pipe_exceptions]\n",
    "\n",
    "with nlp.disable_pipes(*other_pipes):  # only train textcat\n",
    "    optimizer = nlp.begin_training()\n",
    "    \n",
    "    print(\"Training the model...\")\n",
    "    print(\"{:^5}\".format(\"LOSS\"))\n",
    "    batch_sizes = 10\n",
    "    \n",
    "    for i in range(n_iter):\n",
    "        losses = {}\n",
    "        batches = minibatch(train_data, size=batch_sizes)\n",
    "        for batch in batches:\n",
    "            texts, annotations = zip(*batch)\n",
    "            nlp.update(texts, annotations, sgd=optimizer, drop=0.2, losses=losses)\n",
    "        print(\"{0:.3f}\".format(losses[\"textcat\"]))"
   ]
  },
  {
   "cell_type": "markdown",
   "metadata": {},
   "source": [
    "## 10. Making Predictions"
   ]
  },
  {
   "cell_type": "code",
   "execution_count": 117,
   "metadata": {},
   "outputs": [],
   "source": [
    "def predict_tag(text, nlp=nlp, threshold=0.5):\n",
    "    doc = nlp(text)\n",
    "    percent = round(doc.cats['PATIENT'], 2)\n",
    "    \n",
    "    if percent>threshold:\n",
    "        return 1\n",
    "    else:\n",
    "        return 0"
   ]
  },
  {
   "cell_type": "code",
   "execution_count": 118,
   "metadata": {},
   "outputs": [],
   "source": [
    "y_test = X_test['Combined_CONV_text'].apply(lambda x: predict_tag(text=x, threshold=0.6)).to_numpy()\n",
    "\n",
    "output = pd.DataFrame({'Index': X_test.index,\n",
    "                       'Patient_Tag': y_test})\n",
    "output.to_csv('submission.csv', index=False)"
   ]
  },
  {
   "cell_type": "markdown",
   "metadata": {},
   "source": [
    "So we can see that the naturally the BiLSTM deep learning model from Spacy has performed a little bit bityter than our classical machine learning models. However, honourable mention to XGBoost for living upto it's name and almost matching the RNN model. Finally the RNN model was chosen based on its complex construct and ability to perform generally better than any classical Machine Learning model."
   ]
  }
 ],
 "metadata": {
  "kernelspec": {
   "display_name": "Python 3",
   "language": "python",
   "name": "python3"
  },
  "language_info": {
   "codemirror_mode": {
    "name": "ipython",
    "version": 3
   },
   "file_extension": ".py",
   "mimetype": "text/x-python",
   "name": "python",
   "nbconvert_exporter": "python",
   "pygments_lexer": "ipython3",
   "version": "3.7.4"
  }
 },
 "nbformat": 4,
 "nbformat_minor": 2
}
